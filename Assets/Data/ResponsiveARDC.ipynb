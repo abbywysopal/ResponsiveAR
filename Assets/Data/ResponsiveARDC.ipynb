{
 "cells": [
  {
   "cell_type": "code",
   "execution_count": 1,
   "metadata": {},
   "outputs": [],
   "source": [
    "import json\n",
    "import os"
   ]
  },
  {
   "cell_type": "code",
   "execution_count": 11,
   "metadata": {},
   "outputs": [
    {
     "name": "stdout",
     "output_type": "stream",
     "text": [
      "Files and directories in ' C://Users//FourEyes//Downloads//ResponsiveAR// ' :\n",
      "['1651714484896', '1651717024285', '1651717063077', '1651718131151', '1651772254365', '1651772348946', 'Experiment', 'Tutorial']\n",
      "['TutorialSession_0_1651772254365.json', 'TutorialSession_1_1651772254365.json', 'TutorialSession_2_1651772254365.json', 'TutorialSession_3_1651772254365.json', 'TutorialSession_4_1651772254365.json', 'TutorialSession_5_1651772254365.json', 'TutorialSession_6_1651772254365.json', 'TutorialSession_7_1651772254365.json', 'TutorialSession_8_1651772254365.json']\n",
      "['ExperimentSession_0_1651772348946.json', 'ExperimentSession_1_1651772348946.json', 'ExperimentSession_2_1651772348946.json', 'ExperimentSession_3_1651772348946.json', 'ExperimentSession_4_1651772348946.json', 'ExperimentSession_5_1651772348946.json', 'ExperimentSession_6_1651772348946.json', 'ExperimentSession_7_1651772348946.json', 'ExperimentSession_8_1651772348946.json', 'ExperimentSession_9_1651772348946.json']\n"
     ]
    }
   ],
   "source": [
    "path = \"C://Users//FourEyes//Downloads//ResponsiveAR//\"\n",
    "#path = \"./UnitySession/\"\n",
    "\n",
    "dir_list = os.listdir(path)\n",
    " \n",
    "print(\"Files and directories in '\", path, \"' :\")\n",
    " \n",
    "# prints all files\n",
    "print(dir_list)\n",
    "\n",
    "tutoral = os.listdir(path + dir_list[4] + \"//\")\n",
    "print(tutoral)\n",
    "experiment = os.listdir(path)\n",
    "print(experiment)"
   ]
  },
  {
   "cell_type": "code",
   "execution_count": 12,
   "metadata": {},
   "outputs": [],
   "source": [
    "responsiveData = []\n",
    "experimentEvents = []\n",
    "\n",
    "def parseFrame(frames):\n",
    "    #frames = json_data[\"frames\"]\n",
    "    for frame in frames:\n",
    "        responsiveEvent = frame[\"responsiveData\"]\n",
    "        experimentEvent = frame[\"experimentEvents\"]\n",
    "        experimentEvent = frame[\"experimentEvents\"]\n",
    "        if responsiveEvent:\n",
    "            print(responsiveEvent)\n",
    "            responsiveData.append(responsiveEvent)\n",
    "        if experimentEvent:\n",
    "            print(experimentEvent)\n",
    "            experimentEvents.append(experimentEvent)\n",
    "\n",
    "\n",
    "def parseSession(session):\n",
    "    sessionData = {\n",
    "    \"task\": str,\n",
    "    \"start_time\": float,\n",
    "    \"end_time\": float,\n",
    "    \"total_time\": float,\n",
    "    \"sessionNumber\": int,\n",
    "    \"isReponsive\": int\n",
    "    }\n",
    "    sessionData[\"task\"] = session[\"task\"]\n",
    "    sessionData[\"start_time\"] = session[\"start_time\"]\n",
    "    sessionData[\"end_time\"] = session[\"end_time\"]\n",
    "    sessionData[\"total_time\"] = session[\"total_time\"]\n",
    "    sessionData[\"sessionNumber\"] = session[\"sessionNumber\"]\n",
    "    sessionData[\"isReponsive\"] = session[\"isReponsive\"]\n",
    "    return sessionData\n"
   ]
  },
  {
   "cell_type": "code",
   "execution_count": 13,
   "metadata": {},
   "outputs": [
    {
     "name": "stdout",
     "output_type": "stream",
     "text": [
      "ExperimentSession_0_1651772348946.json\n"
     ]
    },
    {
     "ename": "NameError",
     "evalue": "name 'json' is not defined",
     "output_type": "error",
     "traceback": [
      "\u001b[1;31m---------------------------------------------------------------------------\u001b[0m",
      "\u001b[1;31mNameError\u001b[0m                                 Traceback (most recent call last)",
      "\u001b[1;32m~\\AppData\\Local\\Temp\\ipykernel_19640\\1058757684.py\u001b[0m in \u001b[0;36m<module>\u001b[1;34m\u001b[0m\n\u001b[0;32m      9\u001b[0m             \u001b[0mfirstFileFlag\u001b[0m \u001b[1;33m=\u001b[0m \u001b[1;32mTrue\u001b[0m\u001b[1;33m\u001b[0m\u001b[1;33m\u001b[0m\u001b[0m\n\u001b[0;32m     10\u001b[0m         \u001b[1;32mwith\u001b[0m \u001b[0mopen\u001b[0m\u001b[1;33m(\u001b[0m\u001b[0mpath\u001b[0m \u001b[1;33m+\u001b[0m \u001b[0mfilename\u001b[0m\u001b[1;33m,\u001b[0m \u001b[1;34m'r'\u001b[0m\u001b[1;33m)\u001b[0m \u001b[1;32mas\u001b[0m \u001b[0mf\u001b[0m\u001b[1;33m:\u001b[0m\u001b[1;33m\u001b[0m\u001b[1;33m\u001b[0m\u001b[0m\n\u001b[1;32m---> 11\u001b[1;33m             \u001b[0mjson_data\u001b[0m \u001b[1;33m=\u001b[0m \u001b[0mjson\u001b[0m\u001b[1;33m.\u001b[0m\u001b[0mload\u001b[0m\u001b[1;33m(\u001b[0m\u001b[0mf\u001b[0m\u001b[1;33m)\u001b[0m\u001b[1;33m\u001b[0m\u001b[1;33m\u001b[0m\u001b[0m\n\u001b[0m\u001b[0;32m     12\u001b[0m             \u001b[1;32mif\u001b[0m\u001b[1;33m(\u001b[0m\u001b[0mfirstFileFlag\u001b[0m\u001b[1;33m)\u001b[0m\u001b[1;33m:\u001b[0m\u001b[1;33m\u001b[0m\u001b[1;33m\u001b[0m\u001b[0m\n\u001b[0;32m     13\u001b[0m                 \u001b[0msession\u001b[0m \u001b[1;33m=\u001b[0m \u001b[0mparseSession\u001b[0m\u001b[1;33m(\u001b[0m\u001b[0mjson_data\u001b[0m\u001b[1;33m[\u001b[0m\u001b[1;34m\"obj\"\u001b[0m\u001b[1;33m]\u001b[0m\u001b[1;33m[\u001b[0m\u001b[1;34m\"sessionRecordings\"\u001b[0m\u001b[1;33m]\u001b[0m\u001b[1;33m[\u001b[0m\u001b[1;36m0\u001b[0m\u001b[1;33m]\u001b[0m\u001b[1;33m)\u001b[0m\u001b[1;33m\u001b[0m\u001b[1;33m\u001b[0m\u001b[0m\n",
      "\u001b[1;31mNameError\u001b[0m: name 'json' is not defined"
     ]
    }
   ],
   "source": [
    "sessions = {}\n",
    "\n",
    "for filename in experiment:\n",
    "    if filename.endswith(\".json\"):\n",
    "        # Prints only text file present in My Folder\n",
    "        print(filename)\n",
    "        firstFileFlag = False\n",
    "        if(\"Session_0\" in filename):\n",
    "            firstFileFlag = True\n",
    "        with open(path + dir_list[5] + \"//\" + filename, 'r') as f:\n",
    "            json_data = json.load(f)\n",
    "            if(firstFileFlag):\n",
    "                session = parseSession(json_data[\"obj\"][\"sessionRecordings\"][0])\n",
    "                num = session[\"sessionNumber\"]\n",
    "                sessions[num] = session\n",
    "                parseFrame(json_data[\"obj\"][\"sessionRecordings\"][0][\"frames\"])\n",
    "            else:\n",
    "                session = parseSession(json_data)\n",
    "                num = session[\"sessionNumber\"]\n",
    "                sessions[num] = session\n",
    "                parseFrame(json_data[\"frames\"])\n",
    "\n",
    "print(sessions)"
   ]
  }
 ],
 "metadata": {
  "interpreter": {
   "hash": "94690f3ee58cd90505bc8ca7b9b51437beee4b746933a7052b5e5623b12dd429"
  },
  "kernelspec": {
   "display_name": "Python 3.7.8 64-bit",
   "language": "python",
   "name": "python3"
  },
  "language_info": {
   "codemirror_mode": {
    "name": "ipython",
    "version": 3
   },
   "file_extension": ".py",
   "mimetype": "text/x-python",
   "name": "python",
   "nbconvert_exporter": "python",
   "pygments_lexer": "ipython3",
   "version": "3.7.8"
  },
  "orig_nbformat": 4
 },
 "nbformat": 4,
 "nbformat_minor": 2
}
