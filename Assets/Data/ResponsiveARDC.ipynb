{
 "cells": [
  {
   "cell_type": "code",
   "execution_count": 2,
   "metadata": {},
   "outputs": [],
   "source": [
    "import json\n",
    "import os"
   ]
  },
  {
   "cell_type": "code",
   "execution_count": 3,
   "metadata": {},
   "outputs": [
    {
     "name": "stdout",
     "output_type": "stream",
     "text": [
      "Files and directories in ' C://Users//FourEyes//Downloads//ResponsiveAR// ' :\n",
      "['RecordStudy_Session_0_1651692237432.json', 'RecordStudy_Session_1_1651692237432.json', 'RecordStudy_Session_2_1651692237432.json', 'RecordStudy_Session_3_1651692237432.json', 'RecordStudy_Session_4_1651692237432.json', 'RecordStudy_Session_5_1651692237432.json', 'RecordStudy_Session_6_1651692237432.json', 'RecordStudy_Session_7_1651692237432.json', 'RecordStudy_Session_8_1651692237432.json', 'RecordStudy_Session_9_1651692237432.json']\n"
     ]
    }
   ],
   "source": [
    "path = \"C://Users//FourEyes//Downloads//ResponsiveAR//\"\n",
    "dir_list = os.listdir(path)\n",
    " \n",
    "print(\"Files and directories in '\", path, \"' :\")\n",
    " \n",
    "# prints all files\n",
    "print(dir_list)"
   ]
  },
  {
   "cell_type": "code",
   "execution_count": 14,
   "metadata": {},
   "outputs": [],
   "source": [
    "responsiveData = []\n",
    "experimentEvents = []\n",
    "\n",
    "def parseFrame(json_data):\n",
    "    frames = json_data[\"frames\"]\n",
    "    for frame in frames:\n",
    "        responsiveEvent = frame[\"responsiveData\"]\n",
    "        experimentEvent = frame[\"experimentEvents\"]\n",
    "        experimentEvent = frame[\"experimentEvents\"]\n",
    "        if responsiveEvent:\n",
    "            print(responsiveEvent)\n",
    "            responsiveData.append(responsiveEvent)\n",
    "        if experimentEvent:\n",
    "            print(experimentEvent)\n",
    "            experimentEvents.append(experimentEvent)\n",
    "\n",
    "sessions = {}\n",
    "sessionData = {\n",
    "\"task\": str,\n",
    "\"start_time\": float,\n",
    "\"end_time\": float,\n",
    "\"total_time\": float,\n",
    "\"sessionNumber\": int,\n",
    "\"isReponsive\": int\n",
    "}\n",
    "def parseSession(json_data):\n",
    "    sessions = json_data[\"sessionRecordings\"]\n",
    "    for session in sessions:\n",
    "        sessionData[\"task\"] = session[\"task\"]\n",
    "        sessionData[\"start_time\"] = session[\"start_time\"]\n",
    "        sessionData[\"end_time\"] = session[\"end_time\"]\n",
    "        sessionData[\"total_time\"] = session[\"total_time\"]\n",
    "        sessionData[\"sessionNumber\"] = session[\"sessionNumber\"]\n",
    "        sessionData[\"isReponsive\"] = session[\"isReponsive\"]\n",
    "        parseFrame(session)\n",
    "\n",
    "\n",
    "\n"
   ]
  },
  {
   "cell_type": "code",
   "execution_count": 15,
   "metadata": {},
   "outputs": [
    {
     "name": "stdout",
     "output_type": "stream",
     "text": [
      "RecordStudy_Session_0_1651692237432.json\n",
      "{'scale': {'x': 0.0, 'y': 0.0, 'z': 0.0}, 'position': {'x': 0.0, 'y': 0.0, 'z': 0.0}, 'ratio': 0.0, 'distance': 0.0}\n",
      "[{'unixTime': 1651692242071, 'systemTime': '12-24-02-07', 'isResponsive': True, 'eventName': 'start', 'task_number': 0, 'task_type': 'Article Display', 'object_scale': {'x': 0.25, 'y': 0.25, 'z': 0.25}, 'object_position': {'x': 0.0832325890660286, 'y': 0.029999999329447746, 'z': 0.6000000238418579}, 'correct_answer': '2nd Title', 'guess': ''}]\n",
      "{'scale': {'x': 0.0, 'y': 0.0, 'z': 0.0}, 'position': {'x': 0.0, 'y': 0.0, 'z': 0.0}, 'ratio': 0.0, 'distance': 0.0}\n",
      "{'scale': {'x': 0.0, 'y': 0.0, 'z': 0.0}, 'position': {'x': 0.0, 'y': 0.0, 'z': 0.0}, 'ratio': 0.0, 'distance': 0.0}\n",
      "{'scale': {'x': 0.0, 'y': 0.0, 'z': 0.0}, 'position': {'x': 0.0, 'y': 0.0, 'z': 0.0}, 'ratio': 0.0, 'distance': 0.0}\n",
      "{'scale': {'x': 0.0, 'y': 0.0, 'z': 0.0}, 'position': {'x': 0.0, 'y': 0.0, 'z': 0.0}, 'ratio': 0.0, 'distance': 0.0}\n",
      "{'scale': {'x': 0.0, 'y': 0.0, 'z': 0.0}, 'position': {'x': 0.0, 'y': 0.0, 'z': 0.0}, 'ratio': 0.0, 'distance': 0.0}\n",
      "{'scale': {'x': 0.0, 'y': 0.0, 'z': 0.0}, 'position': {'x': 0.0, 'y': 0.0, 'z': 0.0}, 'ratio': 0.0, 'distance': 0.0}\n",
      "{'scale': {'x': 0.0, 'y': 0.0, 'z': 0.0}, 'position': {'x': 0.0, 'y': 0.0, 'z': 0.0}, 'ratio': 0.0, 'distance': 0.0}\n",
      "{'scale': {'x': 0.0, 'y': 0.0, 'z': 0.0}, 'position': {'x': 0.0, 'y': 0.0, 'z': 0.0}, 'ratio': 0.0, 'distance': 0.0}\n",
      "{'scale': {'x': 0.0, 'y': 0.0, 'z': 0.0}, 'position': {'x': 0.0, 'y': 0.0, 'z': 0.0}, 'ratio': 0.0, 'distance': 0.0}\n",
      "{'scale': {'x': 0.0, 'y': 0.0, 'z': 0.0}, 'position': {'x': 0.0, 'y': 0.0, 'z': 0.0}, 'ratio': 0.0, 'distance': 0.0}\n",
      "{'scale': {'x': 0.0, 'y': 0.0, 'z': 0.0}, 'position': {'x': 0.0, 'y': 0.0, 'z': 0.0}, 'ratio': 0.0, 'distance': 0.0}\n",
      "{'scale': {'x': 0.0, 'y': 0.0, 'z': 0.0}, 'position': {'x': 0.0, 'y': 0.0, 'z': 0.0}, 'ratio': 0.0, 'distance': 0.0}\n",
      "{'scale': {'x': 0.0, 'y': 0.0, 'z': 0.0}, 'position': {'x': 0.0, 'y': 0.0, 'z': 0.0}, 'ratio': 0.0, 'distance': 0.0}\n",
      "{'scale': {'x': 0.0, 'y': 0.0, 'z': 0.0}, 'position': {'x': 0.0, 'y': 0.0, 'z': 0.0}, 'ratio': 0.0, 'distance': 0.0}\n",
      "{'scale': {'x': 0.0, 'y': 0.0, 'z': 0.0}, 'position': {'x': 0.0, 'y': 0.0, 'z': 0.0}, 'ratio': 0.0, 'distance': 0.0}\n",
      "{'scale': {'x': 0.0, 'y': 0.0, 'z': 0.0}, 'position': {'x': 0.0, 'y': 0.0, 'z': 0.0}, 'ratio': 0.0, 'distance': 0.0}\n",
      "{'scale': {'x': 0.0, 'y': 0.0, 'z': 0.0}, 'position': {'x': 0.0, 'y': 0.0, 'z': 0.0}, 'ratio': 0.0, 'distance': 0.0}\n",
      "{'scale': {'x': 0.0, 'y': 0.0, 'z': 0.0}, 'position': {'x': 0.0, 'y': 0.0, 'z': 0.0}, 'ratio': 0.0, 'distance': 0.0}\n",
      "{'scale': {'x': 0.0, 'y': 0.0, 'z': 0.0}, 'position': {'x': 0.0, 'y': 0.0, 'z': 0.0}, 'ratio': 0.0, 'distance': 0.0}\n",
      "{'scale': {'x': 0.0, 'y': 0.0, 'z': 0.0}, 'position': {'x': 0.0, 'y': 0.0, 'z': 0.0}, 'ratio': 0.0, 'distance': 0.0}\n",
      "{'scale': {'x': 0.0, 'y': 0.0, 'z': 0.0}, 'position': {'x': 0.0, 'y': 0.0, 'z': 0.0}, 'ratio': 0.0, 'distance': 0.0}\n",
      "{'scale': {'x': 0.0, 'y': 0.0, 'z': 0.0}, 'position': {'x': 0.0, 'y': 0.0, 'z': 0.0}, 'ratio': 0.0, 'distance': 0.0}\n",
      "{'scale': {'x': 0.0, 'y': 0.0, 'z': 0.0}, 'position': {'x': 0.0, 'y': 0.0, 'z': 0.0}, 'ratio': 0.0, 'distance': 0.0}\n",
      "{'scale': {'x': 0.0, 'y': 0.0, 'z': 0.0}, 'position': {'x': 0.0, 'y': 0.0, 'z': 0.0}, 'ratio': 0.0, 'distance': 0.0}\n",
      "{'scale': {'x': 0.0, 'y': 0.0, 'z': 0.0}, 'position': {'x': 0.0, 'y': 0.0, 'z': 0.0}, 'ratio': 0.0, 'distance': 0.0}\n",
      "{'scale': {'x': 0.0, 'y': 0.0, 'z': 0.0}, 'position': {'x': 0.0, 'y': 0.0, 'z': 0.0}, 'ratio': 0.0, 'distance': 0.0}\n",
      "{'scale': {'x': 0.0, 'y': 0.0, 'z': 0.0}, 'position': {'x': 0.0, 'y': 0.0, 'z': 0.0}, 'ratio': 0.0, 'distance': 0.0}\n",
      "{'scale': {'x': 0.0, 'y': 0.0, 'z': 0.0}, 'position': {'x': 0.0, 'y': 0.0, 'z': 0.0}, 'ratio': 0.0, 'distance': 0.0}\n",
      "{'scale': {'x': 0.0, 'y': 0.0, 'z': 0.0}, 'position': {'x': 0.0, 'y': 0.0, 'z': 0.0}, 'ratio': 0.0, 'distance': 0.0}\n",
      "{'scale': {'x': 0.0, 'y': 0.0, 'z': 0.0}, 'position': {'x': 0.0, 'y': 0.0, 'z': 0.0}, 'ratio': 0.0, 'distance': 0.0}\n",
      "{'scale': {'x': 0.0, 'y': 0.0, 'z': 0.0}, 'position': {'x': 0.0, 'y': 0.0, 'z': 0.0}, 'ratio': 0.0, 'distance': 0.0}\n",
      "{'scale': {'x': 0.0, 'y': 0.0, 'z': 0.0}, 'position': {'x': 0.0, 'y': 0.0, 'z': 0.0}, 'ratio': 0.0, 'distance': 0.0}\n",
      "{'scale': {'x': 0.0, 'y': 0.0, 'z': 0.0}, 'position': {'x': 0.0, 'y': 0.0, 'z': 0.0}, 'ratio': 0.0, 'distance': 0.0}\n",
      "{'scale': {'x': 0.0, 'y': 0.0, 'z': 0.0}, 'position': {'x': 0.0, 'y': 0.0, 'z': 0.0}, 'ratio': 0.0, 'distance': 0.0}\n",
      "{'scale': {'x': 0.25, 'y': 0.25, 'z': 0.25}, 'position': {'x': 0.0832325890660286, 'y': 0.029999999329447746, 'z': 0.6000000238418579}, 'ratio': 0.41614679372411983, 'distance': 0.6007495522499084}\n",
      "{'scale': {'x': 0.25, 'y': 0.25, 'z': 0.25}, 'position': {'x': 0.0832325890660286, 'y': 0.029999999329447746, 'z': 0.6000000238418579}, 'ratio': 0.41614679372411983, 'distance': 0.6007495522499084}\n",
      "{'scale': {'x': 0.25, 'y': 0.25, 'z': 0.25}, 'position': {'x': 0.0832325890660286, 'y': 0.029999999329447746, 'z': 0.6000000238418579}, 'ratio': 0.41614679372411983, 'distance': 0.6007495522499084}\n",
      "{'scale': {'x': 0.25, 'y': 0.25, 'z': 0.25}, 'position': {'x': 0.0832325890660286, 'y': 0.029999999329447746, 'z': 0.6000000238418579}, 'ratio': 0.41614679372411983, 'distance': 0.6007495522499084}\n",
      "{'scale': {'x': 0.25, 'y': 0.25, 'z': 0.25}, 'position': {'x': 0.0832325890660286, 'y': 0.029999999329447746, 'z': 0.6000000238418579}, 'ratio': 0.41614679372411983, 'distance': 0.6007495522499084}\n",
      "{'scale': {'x': 0.25, 'y': 0.25, 'z': 0.25}, 'position': {'x': 0.0832325890660286, 'y': 0.029999999329447746, 'z': 0.6000000238418579}, 'ratio': 0.41614679372411983, 'distance': 0.6007495522499084}\n",
      "{'scale': {'x': 0.25, 'y': 0.25, 'z': 0.25}, 'position': {'x': 0.0832325890660286, 'y': 0.029999999329447746, 'z': 0.6000000238418579}, 'ratio': 0.41614679372411983, 'distance': 0.6007495522499084}\n",
      "{'scale': {'x': 0.25, 'y': 0.25, 'z': 0.25}, 'position': {'x': 0.0832325890660286, 'y': 0.029999999329447746, 'z': 0.6000000238418579}, 'ratio': 0.41614679372411983, 'distance': 0.6007495522499084}\n",
      "{'scale': {'x': 0.25, 'y': 0.25, 'z': 0.25}, 'position': {'x': 0.0832325890660286, 'y': 0.029999999329447746, 'z': 0.6000000238418579}, 'ratio': 0.41614679372411983, 'distance': 0.6007495522499084}\n",
      "{'scale': {'x': 0.25, 'y': 0.25, 'z': 0.25}, 'position': {'x': 0.0832325890660286, 'y': 0.029999999329447746, 'z': 0.6000000238418579}, 'ratio': 0.41614679372411983, 'distance': 0.6007495522499084}\n",
      "{'scale': {'x': 0.25, 'y': 0.25, 'z': 0.25}, 'position': {'x': 0.0832325890660286, 'y': 0.029999999329447746, 'z': 0.6000000238418579}, 'ratio': 0.41614679372411983, 'distance': 0.6007495522499084}\n",
      "{'scale': {'x': 0.25, 'y': 0.25, 'z': 0.25}, 'position': {'x': 0.0832325890660286, 'y': 0.029999999329447746, 'z': 0.6000000238418579}, 'ratio': 0.41614679372411983, 'distance': 0.6007495522499084}\n",
      "{'scale': {'x': 0.25, 'y': 0.25, 'z': 0.25}, 'position': {'x': 0.0832325890660286, 'y': 0.029999999329447746, 'z': 0.6000000238418579}, 'ratio': 0.41614679372411983, 'distance': 0.6007495522499084}\n",
      "{'scale': {'x': 0.25, 'y': 0.25, 'z': 0.25}, 'position': {'x': 0.0832325890660286, 'y': 0.029999999329447746, 'z': 0.6000000238418579}, 'ratio': 0.41614679372411983, 'distance': 0.6007495522499084}\n",
      "{'scale': {'x': 0.25, 'y': 0.25, 'z': 0.25}, 'position': {'x': 0.0832325890660286, 'y': 0.029999999329447746, 'z': 0.6000000238418579}, 'ratio': 0.41614679372411983, 'distance': 0.6007495522499084}\n",
      "{'scale': {'x': 0.25, 'y': 0.25, 'z': 0.25}, 'position': {'x': 0.0832325890660286, 'y': 0.029999999329447746, 'z': 0.6000000238418579}, 'ratio': 0.41614679372411983, 'distance': 0.6007495522499084}\n",
      "{'scale': {'x': 0.25, 'y': 0.25, 'z': 0.25}, 'position': {'x': 0.0832325890660286, 'y': 0.029999999329447746, 'z': 0.6000000238418579}, 'ratio': 0.41614679372411983, 'distance': 0.6007495522499084}\n",
      "{'scale': {'x': 0.25, 'y': 0.25, 'z': 0.25}, 'position': {'x': 0.0832325890660286, 'y': 0.029999999329447746, 'z': 0.6000000238418579}, 'ratio': 0.41614679372411983, 'distance': 0.6007495522499084}\n",
      "{'scale': {'x': 0.25, 'y': 0.25, 'z': 0.25}, 'position': {'x': 0.0832325890660286, 'y': 0.029999999329447746, 'z': 0.6000000238418579}, 'ratio': 0.41614679372411983, 'distance': 0.6007495522499084}\n",
      "{'scale': {'x': 0.25, 'y': 0.25, 'z': 0.25}, 'position': {'x': 0.0832325890660286, 'y': 0.029999999329447746, 'z': 0.6000000238418579}, 'ratio': 0.41614679372411983, 'distance': 0.6007495522499084}\n",
      "{'scale': {'x': 0.25, 'y': 0.25, 'z': 0.25}, 'position': {'x': 0.0832325890660286, 'y': 0.029999999329447746, 'z': 0.6000000238418579}, 'ratio': 0.41614679372411983, 'distance': 0.6007495522499084}\n",
      "{'scale': {'x': 0.25, 'y': 0.25, 'z': 0.25}, 'position': {'x': 0.0832325890660286, 'y': 0.029999999329447746, 'z': 0.6000000238418579}, 'ratio': 0.41614679372411983, 'distance': 0.6007495522499084}\n",
      "{'scale': {'x': 0.25, 'y': 0.25, 'z': 0.25}, 'position': {'x': 0.0832325890660286, 'y': 0.029999999329447746, 'z': 0.6000000238418579}, 'ratio': 0.41614679372411983, 'distance': 0.6007495522499084}\n",
      "{'scale': {'x': 0.25, 'y': 0.25, 'z': 0.25}, 'position': {'x': 0.0832325890660286, 'y': 0.029999999329447746, 'z': 0.6000000238418579}, 'ratio': 0.41614679372411983, 'distance': 0.6007495522499084}\n",
      "{'scale': {'x': 0.25, 'y': 0.25, 'z': 0.25}, 'position': {'x': 0.0832325890660286, 'y': 0.029999999329447746, 'z': 0.6000000238418579}, 'ratio': 0.41614679372411983, 'distance': 0.6007495522499084}\n",
      "{'scale': {'x': 0.25, 'y': 0.25, 'z': 0.25}, 'position': {'x': 0.0832325890660286, 'y': 0.029999999329447746, 'z': 0.6000000238418579}, 'ratio': 0.41614679372411983, 'distance': 0.6007495522499084}\n",
      "{'scale': {'x': 0.25, 'y': 0.25, 'z': 0.25}, 'position': {'x': 0.0832325890660286, 'y': 0.029999999329447746, 'z': 0.6000000238418579}, 'ratio': 0.41614679372411983, 'distance': 0.6007495522499084}\n",
      "{'scale': {'x': 0.25, 'y': 0.25, 'z': 0.25}, 'position': {'x': 0.0832325890660286, 'y': 0.029999999329447746, 'z': 0.6000000238418579}, 'ratio': 0.41614679372411983, 'distance': 0.6007495522499084}\n",
      "{'scale': {'x': 0.25, 'y': 0.25, 'z': 0.25}, 'position': {'x': 0.0832325890660286, 'y': 0.029999999329447746, 'z': 0.6000000238418579}, 'ratio': 0.41614679372411983, 'distance': 0.6007495522499084}\n",
      "{'scale': {'x': 0.25, 'y': 0.25, 'z': 0.25}, 'position': {'x': 0.0832325890660286, 'y': 0.029999999329447746, 'z': 0.6000000238418579}, 'ratio': 0.41614679372411983, 'distance': 0.6007495522499084}\n",
      "{'scale': {'x': 0.25, 'y': 0.25, 'z': 0.25}, 'position': {'x': 0.0832325890660286, 'y': 0.029999999329447746, 'z': 0.6000000238418579}, 'ratio': 0.41614679372411983, 'distance': 0.6007495522499084}\n",
      "{'scale': {'x': 0.25, 'y': 0.25, 'z': 0.25}, 'position': {'x': 0.0832325890660286, 'y': 0.029999999329447746, 'z': 0.6000000238418579}, 'ratio': 0.41614679372411983, 'distance': 0.6007495522499084}\n",
      "{'scale': {'x': 0.25, 'y': 0.25, 'z': 0.25}, 'position': {'x': 0.0832325890660286, 'y': 0.029999999329447746, 'z': 0.6000000238418579}, 'ratio': 0.41614679372411983, 'distance': 0.6007495522499084}\n",
      "{'scale': {'x': 0.25, 'y': 0.25, 'z': 0.25}, 'position': {'x': 0.0832325890660286, 'y': 0.029999999329447746, 'z': 0.6000000238418579}, 'ratio': 0.41614679372411983, 'distance': 0.6007495522499084}\n",
      "{'scale': {'x': 0.25, 'y': 0.25, 'z': 0.25}, 'position': {'x': 0.0832325890660286, 'y': 0.029999999329447746, 'z': 0.6000000238418579}, 'ratio': 0.41614679372411983, 'distance': 0.6007495522499084}\n",
      "RecordStudy_Session_1_1651692237432.json\n"
     ]
    },
    {
     "ename": "KeyError",
     "evalue": "'obj'",
     "output_type": "error",
     "traceback": [
      "\u001b[1;31m---------------------------------------------------------------------------\u001b[0m",
      "\u001b[1;31mKeyError\u001b[0m                                  Traceback (most recent call last)",
      "\u001b[1;32m~\\AppData\\Local\\Temp\\ipykernel_31356\\1759300067.py\u001b[0m in \u001b[0;36m<module>\u001b[1;34m\u001b[0m\n\u001b[0;32m      6\u001b[0m         \u001b[1;32mwith\u001b[0m \u001b[0mopen\u001b[0m\u001b[1;33m(\u001b[0m\u001b[0mpath\u001b[0m \u001b[1;33m+\u001b[0m \u001b[0mfilename\u001b[0m\u001b[1;33m,\u001b[0m \u001b[1;34m'r'\u001b[0m\u001b[1;33m)\u001b[0m \u001b[1;32mas\u001b[0m \u001b[0mf\u001b[0m\u001b[1;33m:\u001b[0m\u001b[1;33m\u001b[0m\u001b[1;33m\u001b[0m\u001b[0m\n\u001b[0;32m      7\u001b[0m             \u001b[0mjson_data\u001b[0m \u001b[1;33m=\u001b[0m \u001b[0mjson\u001b[0m\u001b[1;33m.\u001b[0m\u001b[0mload\u001b[0m\u001b[1;33m(\u001b[0m\u001b[0mf\u001b[0m\u001b[1;33m)\u001b[0m\u001b[1;33m\u001b[0m\u001b[1;33m\u001b[0m\u001b[0m\n\u001b[1;32m----> 8\u001b[1;33m             \u001b[0mparseSession\u001b[0m\u001b[1;33m(\u001b[0m\u001b[0mjson_data\u001b[0m\u001b[1;33m[\u001b[0m\u001b[1;34m\"obj\"\u001b[0m\u001b[1;33m]\u001b[0m\u001b[1;33m)\u001b[0m\u001b[1;33m\u001b[0m\u001b[1;33m\u001b[0m\u001b[0m\n\u001b[0m",
      "\u001b[1;31mKeyError\u001b[0m: 'obj'"
     ]
    }
   ],
   "source": [
    "for filename in dir_list:\n",
    "    data = []\n",
    "    if filename.endswith(\".json\"):\n",
    "        # Prints only text file present in My Folder\n",
    "        print(filename)\n",
    "        with open(path + filename, 'r') as f:\n",
    "            json_data = json.load(f)\n",
    "            parseSession(json_data[\"obj\"])\n"
   ]
  }
 ],
 "metadata": {
  "interpreter": {
   "hash": "94690f3ee58cd90505bc8ca7b9b51437beee4b746933a7052b5e5623b12dd429"
  },
  "kernelspec": {
   "display_name": "Python 3.7.8 64-bit",
   "language": "python",
   "name": "python3"
  },
  "language_info": {
   "codemirror_mode": {
    "name": "ipython",
    "version": 3
   },
   "file_extension": ".py",
   "mimetype": "text/x-python",
   "name": "python",
   "nbconvert_exporter": "python",
   "pygments_lexer": "ipython3",
   "version": "3.7.8"
  },
  "orig_nbformat": 4
 },
 "nbformat": 4,
 "nbformat_minor": 2
}
