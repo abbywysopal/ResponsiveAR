{
 "cells": [
  {
   "cell_type": "code",
   "execution_count": 110,
   "metadata": {},
   "outputs": [],
   "source": [
    "import pandas\n",
    "import scipy\n",
    "from scipy import stats\n",
    "import pingouin as pg\n",
    "#!pip3 install dfply\n",
    "#import dfply\n",
    "import matplotlib.pyplot as plt\n",
    "import seaborn as sns\n",
    "import numpy\n",
    "from scipy import stats\n",
    "\n",
    "#import scikit_posthocs as sp"
   ]
  },
  {
   "cell_type": "code",
   "execution_count": 111,
   "metadata": {},
   "outputs": [],
   "source": [
    "weatherTasks = pandas.read_csv(\"WeatherExperimentData.csv\")\n",
    "weatherTasks = weatherTasks.sort_values(by=[\"userID\"])\n",
    "\n",
    "numpadTasks = pandas.read_csv(\"NumpadExperimentData.csv\")\n",
    "numpadTasks = numpadTasks.sort_values(by=[\"userID\"])\n",
    "\n",
    "articleTasks = pandas.read_csv(\"ArticleExperimentData.csv\")\n",
    "articleTasks = articleTasks.sort_values(by=[\"userID\"])\n"
   ]
  },
  {
   "cell_type": "code",
   "execution_count": 112,
   "metadata": {},
   "outputs": [],
   "source": [
    "weatherTasks = weatherTasks.drop(columns=['Time_To_First_Guess'])\n",
    "taskDf = weatherTasks\n",
    "r_weather = taskDf.loc[taskDf[\"Mode\"] == \"Responsive\"]\n",
    "\n",
    "taskDf = numpadTasks.sort_values(by=[\"userID\"])\n",
    "r_numpad = taskDf.loc[taskDf[\"Mode\"] == \"Responsive\"]\n",
    "\n",
    "findIndex = r_numpad.loc[r_numpad[\"userID\"] == 85]\n",
    "r_numpad_dropped = r_numpad.drop(index = findIndex.index)\n",
    "\n",
    "taskDf = articleTasks.sort_values(by=[\"userID\"])\n",
    "r_article = taskDf.loc[taskDf[\"Mode\"] == \"Responsive\"]\n",
    "\n",
    "findIndex = r_article.loc[r_article[\"userID\"] == 85]\n",
    "r_article_dropped = r_article.drop(index = findIndex.index)"
   ]
  },
  {
   "cell_type": "code",
   "execution_count": 113,
   "metadata": {},
   "outputs": [
    {
     "name": "stdout",
     "output_type": "stream",
     "text": [
      "r_weather.shape[0]: 22\n",
      "r_numpad.shape[0]: 23\n",
      "r_article.shape[0]: 23\n",
      "FriedmanchisquareResult(statistic=40.09090909090912, pvalue=1.9695622136727345e-09)\n"
     ]
    },
    {
     "data": {
      "text/plain": [
       "\"\\ndata = numpy.array([r_article_dropped['Time'], r_numpad_dropped['Time'], r_weather['Time']], dtype='int')\\nsp.posthoc_nemenyi_friedman(data.T)\\n\""
      ]
     },
     "execution_count": 113,
     "metadata": {},
     "output_type": "execute_result"
    }
   ],
   "source": [
    "print(f\"r_weather.shape[0]: {r_weather.shape[0]}\")\n",
    "print(f\"r_numpad.shape[0]: {r_numpad.shape[0]}\")\n",
    "print(f\"r_article.shape[0]: {r_article.shape[0]}\")\n",
    "print(scipy.stats.friedmanchisquare(r_article_dropped['Time'], r_numpad_dropped['Time'], r_weather['Time']))\n",
    "'''\n",
    "data = numpy.array([r_article_dropped['Time'], r_numpad_dropped['Time'], r_weather['Time']], dtype='int')\n",
    "sp.posthoc_nemenyi_friedman(data.T)\n",
    "'''"
   ]
  },
  {
   "cell_type": "code",
   "execution_count": 114,
   "metadata": {},
   "outputs": [],
   "source": [
    "taskDf = weatherTasks.sort_values(by=[\"userID\"])\n",
    "s_weather = taskDf.loc[taskDf[\"Mode\"] == \"Static\"]\n",
    "\n",
    "taskDf = numpadTasks.sort_values(by=[\"userID\"])\n",
    "s_numpad = taskDf.loc[taskDf[\"Mode\"] == \"Static\"]\n",
    "\n",
    "findIndex = s_numpad.loc[s_numpad[\"userID\"] == 56]\n",
    "s_numpad_dropped = s_numpad.drop(index = findIndex.index)\n",
    "\n",
    "taskDf = articleTasks.sort_values(by=[\"userID\"])\n",
    "s_article = taskDf.loc[taskDf[\"Mode\"] == \"Static\"]\n",
    "\n",
    "findIndex = s_article.loc[s_article[\"userID\"] == 56]\n",
    "s_article_dropped = s_article.drop(index = findIndex.index)"
   ]
  },
  {
   "cell_type": "code",
   "execution_count": 115,
   "metadata": {},
   "outputs": [
    {
     "name": "stdout",
     "output_type": "stream",
     "text": [
      "s_weather.shape[0]: 21\n",
      "s_numpad.shape[0]: 21\n",
      "s_article.shape[0]: 21\n",
      "FriedmanchisquareResult(statistic=30.952380952380963, pvalue=1.900097450830379e-07)\n"
     ]
    },
    {
     "data": {
      "text/plain": [
       "'\\nsp.posthoc_nemenyi_friedman(data.T)\\n'"
      ]
     },
     "execution_count": 115,
     "metadata": {},
     "output_type": "execute_result"
    }
   ],
   "source": [
    "print(f\"s_weather.shape[0]: {s_weather.shape[0]}\")\n",
    "print(f\"s_numpad.shape[0]: {s_numpad_dropped.shape[0]}\")\n",
    "print(f\"s_article.shape[0]: {s_article_dropped.shape[0]}\")\n",
    "print(scipy.stats.friedmanchisquare(s_article_dropped['Time'], s_numpad_dropped['Time'], s_weather['Time']))\n",
    "data = numpy.array([s_article_dropped['Time'], s_numpad_dropped['Time'], s_weather['Time']], dtype='int')\n",
    "'''\n",
    "sp.posthoc_nemenyi_friedman(data.T)\n",
    "'''"
   ]
  },
  {
   "cell_type": "code",
   "execution_count": 116,
   "metadata": {},
   "outputs": [
    {
     "name": "stdout",
     "output_type": "stream",
     "text": [
      "s_weather.shape[0]: 21\n",
      "s_numpad.shape[0]: 21\n",
      "s_article.shape[0]: 21\n",
      "r_weather.shape[0]: 22\n",
      "r_numpad.shape[0]: 22\n",
      "r_article.shape[0]: 22\n",
      "KruskalResult(statistic=70.02993440667859, pvalue=1.0101961892588363e-13)\n"
     ]
    },
    {
     "data": {
      "text/plain": [
       "'\\nsp.posthoc_dunn(data)\\n'"
      ]
     },
     "execution_count": 116,
     "metadata": {},
     "output_type": "execute_result"
    }
   ],
   "source": [
    "print(f\"s_weather.shape[0]: {s_weather.shape[0]}\")\n",
    "print(f\"s_numpad.shape[0]: {s_numpad_dropped.shape[0]}\")\n",
    "print(f\"s_article.shape[0]: {s_article_dropped.shape[0]}\")\n",
    "print(f\"r_weather.shape[0]: {r_weather.shape[0]}\")\n",
    "print(f\"r_numpad.shape[0]: {r_numpad_dropped.shape[0]}\")\n",
    "print(f\"r_article.shape[0]: {r_article_dropped.shape[0]}\")\n",
    "\n",
    "print(scipy.stats.kruskal(r_article_dropped['Time'], r_numpad_dropped['Time'], r_weather['Time'], s_article_dropped['Time'], s_numpad_dropped['Time'], s_weather['Time']))\n",
    "data_s = numpy.array([s_article_dropped['Time'], s_numpad_dropped['Time'], s_weather['Time']], dtype='int')\n",
    "data_r = numpy.array([r_article_dropped['Time'], r_numpad_dropped['Time'], r_weather['Time']], dtype='int')\n",
    "data = [s_article_dropped['Time'], s_numpad_dropped['Time'], s_weather['Time'], r_article_dropped['Time'], r_numpad_dropped['Time'], r_weather['Time']]\n",
    "#data = numpy.array([data_s, data_r])\n",
    "'''\n",
    "sp.posthoc_dunn(data)\n",
    "'''"
   ]
  },
  {
   "cell_type": "code",
   "execution_count": 117,
   "metadata": {},
   "outputs": [
    {
     "name": "stdout",
     "output_type": "stream",
     "text": [
      "s_weather.shape[0]: 21\n",
      "s_numpad.shape[0]: 22\n",
      "s_article.shape[0]: 22\n",
      "r_weather.shape[0]: 22\n",
      "r_numpad.shape[0]: 23\n",
      "r_article.shape[0]: 23\n",
      "KruskalResult(statistic=71.05412821602869, pvalue=6.182996936447785e-14)\n"
     ]
    },
    {
     "data": {
      "text/plain": [
       "'\\nsp.posthoc_dunn(data)\\n'"
      ]
     },
     "execution_count": 117,
     "metadata": {},
     "output_type": "execute_result"
    }
   ],
   "source": [
    "print(f\"s_weather.shape[0]: {s_weather.shape[0]}\")\n",
    "print(f\"s_numpad.shape[0]: {s_numpad.shape[0]}\")\n",
    "print(f\"s_article.shape[0]: {s_article.shape[0]}\")\n",
    "print(f\"r_weather.shape[0]: {r_weather.shape[0]}\")\n",
    "print(f\"r_numpad.shape[0]: {r_numpad.shape[0]}\")\n",
    "print(f\"r_article.shape[0]: {r_article.shape[0]}\")\n",
    "\n",
    "print(scipy.stats.kruskal(r_article['Time'], r_numpad['Time'], r_weather['Time'], s_article['Time'], s_numpad['Time'], s_weather['Time']))\n",
    "data = [s_article['Time'], s_numpad['Time'], s_weather['Time'], r_article['Time'], r_numpad['Time'], r_weather['Time']]\n",
    "#data = numpy.array([data_s, data_r])\n",
    "'''\n",
    "sp.posthoc_dunn(data)\n",
    "'''"
   ]
  },
  {
   "cell_type": "code",
   "execution_count": 118,
   "metadata": {},
   "outputs": [
    {
     "name": "stdout",
     "output_type": "stream",
     "text": [
      "s_weather.shape[0]: 21\n",
      "s_numpad.shape[0]: 22\n",
      "s_article.shape[0]: 22\n",
      "r_weather.shape[0]: 22\n",
      "r_numpad.shape[0]: 23\n",
      "r_article.shape[0]: 23\n",
      "KruskalResult(statistic=119.1394444077781, pvalue=4.775179300584749e-24)\n"
     ]
    }
   ],
   "source": [
    "print(f\"s_weather.shape[0]: {s_weather.shape[0]}\")\n",
    "print(f\"s_numpad.shape[0]: {s_numpad.shape[0]}\")\n",
    "print(f\"s_article.shape[0]: {s_article.shape[0]}\")\n",
    "print(f\"r_weather.shape[0]: {r_weather.shape[0]}\")\n",
    "print(f\"r_numpad.shape[0]: {r_numpad.shape[0]}\")\n",
    "print(f\"r_article.shape[0]: {r_article.shape[0]}\")\n",
    "\n",
    "print(scipy.stats.kruskal(r_article['Guesses'], r_numpad['Guesses'], r_weather['Guesses'], s_article['Guesses'], s_numpad['Guesses'], s_weather['Guesses']))\n",
    "data = [s_article['Guesses'], s_numpad['Guesses'], s_weather['Guesses'], r_article['Guesses'], r_numpad['Guesses'], r_weather['Guesses']]\n",
    "#data = numpy.array([data_s, data_r])"
   ]
  },
  {
   "cell_type": "code",
   "execution_count": 119,
   "metadata": {},
   "outputs": [
    {
     "name": "stdout",
     "output_type": "stream",
     "text": [
      "Ttest_indResult(statistic=-5.7951036429190745, pvalue=7.257230800376178e-07)\n",
      "ShapiroResult(statistic=0.8201521039009094, pvalue=0.0008199320873245597)\n",
      "ShapiroResult(statistic=0.8304761648178101, pvalue=0.0015627911780029535)\n",
      "MannwhitneyuResult(statistic=14.0, pvalue=6.117617543817659e-08)\n"
     ]
    }
   ],
   "source": [
    "\n",
    "print(scipy.stats.ttest_ind(r_article['Time'], r_weather['Time']))\n",
    "print(scipy.stats.shapiro(r_article['Time']))\n",
    "print(scipy.stats.shapiro(r_weather['Time']))\n",
    "print(scipy.stats.mannwhitneyu(r_article['Time'], r_weather['Time']))"
   ]
  },
  {
   "cell_type": "code",
   "execution_count": 120,
   "metadata": {},
   "outputs": [
    {
     "name": "stdout",
     "output_type": "stream",
     "text": [
      "Ttest_indResult(statistic=-3.2745285870583327, pvalue=0.002094752599476421)\n",
      "ShapiroResult(statistic=0.7168604731559753, pvalue=2.3349291950580664e-05)\n",
      "ShapiroResult(statistic=0.8304761648178101, pvalue=0.0015627911780029535)\n",
      "MannwhitneyuResult(statistic=83.0, pvalue=0.00011878029795366409)\n"
     ]
    }
   ],
   "source": [
    "print(scipy.stats.ttest_ind(r_numpad['Time'], r_weather['Time']))\n",
    "print(scipy.stats.shapiro(r_numpad['Time']))\n",
    "print(scipy.stats.shapiro(r_weather['Time']))\n",
    "print(scipy.stats.mannwhitneyu(r_numpad['Time'], r_weather['Time']))"
   ]
  },
  {
   "cell_type": "code",
   "execution_count": 121,
   "metadata": {},
   "outputs": [
    {
     "data": {
      "text/html": [
       "<div>\n",
       "<style scoped>\n",
       "    .dataframe tbody tr th:only-of-type {\n",
       "        vertical-align: middle;\n",
       "    }\n",
       "\n",
       "    .dataframe tbody tr th {\n",
       "        vertical-align: top;\n",
       "    }\n",
       "\n",
       "    .dataframe thead th {\n",
       "        text-align: right;\n",
       "    }\n",
       "</style>\n",
       "<table border=\"1\" class=\"dataframe\">\n",
       "  <thead>\n",
       "    <tr style=\"text-align: right;\">\n",
       "      <th></th>\n",
       "      <th>Unnamed: 0</th>\n",
       "      <th>userID</th>\n",
       "      <th>Mode</th>\n",
       "      <th>Application</th>\n",
       "      <th>Time</th>\n",
       "      <th>Guesses</th>\n",
       "      <th>Avg Dist</th>\n",
       "      <th>Avg Ratio</th>\n",
       "      <th>Std Dist</th>\n",
       "      <th>Avg Visual Angle</th>\n",
       "      <th>Std Visual Angle</th>\n",
       "    </tr>\n",
       "  </thead>\n",
       "  <tbody>\n",
       "    <tr>\n",
       "      <th>2</th>\n",
       "      <td>210</td>\n",
       "      <td>31</td>\n",
       "      <td>Responsive</td>\n",
       "      <td>Article</td>\n",
       "      <td>17031</td>\n",
       "      <td>4</td>\n",
       "      <td>0.634971</td>\n",
       "      <td>0.550685</td>\n",
       "      <td>0.021940</td>\n",
       "      <td>0.492336</td>\n",
       "      <td>0.017657</td>\n",
       "    </tr>\n",
       "    <tr>\n",
       "      <th>3</th>\n",
       "      <td>130</td>\n",
       "      <td>33</td>\n",
       "      <td>Responsive</td>\n",
       "      <td>Article</td>\n",
       "      <td>18449</td>\n",
       "      <td>4</td>\n",
       "      <td>0.645107</td>\n",
       "      <td>0.542025</td>\n",
       "      <td>0.069303</td>\n",
       "      <td>0.491987</td>\n",
       "      <td>0.050237</td>\n",
       "    </tr>\n",
       "    <tr>\n",
       "      <th>12</th>\n",
       "      <td>50</td>\n",
       "      <td>35</td>\n",
       "      <td>Responsive</td>\n",
       "      <td>Article</td>\n",
       "      <td>29268</td>\n",
       "      <td>4</td>\n",
       "      <td>0.606964</td>\n",
       "      <td>0.578610</td>\n",
       "      <td>0.022584</td>\n",
       "      <td>0.509377</td>\n",
       "      <td>0.010714</td>\n",
       "    </tr>\n",
       "    <tr>\n",
       "      <th>1</th>\n",
       "      <td>260</td>\n",
       "      <td>37</td>\n",
       "      <td>Responsive</td>\n",
       "      <td>Article</td>\n",
       "      <td>15321</td>\n",
       "      <td>5</td>\n",
       "      <td>0.617966</td>\n",
       "      <td>0.565700</td>\n",
       "      <td>0.009120</td>\n",
       "      <td>0.502892</td>\n",
       "      <td>0.009149</td>\n",
       "    </tr>\n",
       "    <tr>\n",
       "      <th>7</th>\n",
       "      <td>270</td>\n",
       "      <td>39</td>\n",
       "      <td>Responsive</td>\n",
       "      <td>Article</td>\n",
       "      <td>22522</td>\n",
       "      <td>4</td>\n",
       "      <td>0.598988</td>\n",
       "      <td>0.573183</td>\n",
       "      <td>0.040722</td>\n",
       "      <td>0.515145</td>\n",
       "      <td>0.028537</td>\n",
       "    </tr>\n",
       "  </tbody>\n",
       "</table>\n",
       "</div>"
      ],
      "text/plain": [
       "    Unnamed: 0  userID        Mode Application   Time  Guesses  Avg Dist  \\\n",
       "2          210      31  Responsive     Article  17031        4  0.634971   \n",
       "3          130      33  Responsive     Article  18449        4  0.645107   \n",
       "12          50      35  Responsive     Article  29268        4  0.606964   \n",
       "1          260      37  Responsive     Article  15321        5  0.617966   \n",
       "7          270      39  Responsive     Article  22522        4  0.598988   \n",
       "\n",
       "    Avg Ratio  Std Dist  Avg Visual Angle  Std Visual Angle  \n",
       "2    0.550685  0.021940          0.492336          0.017657  \n",
       "3    0.542025  0.069303          0.491987          0.050237  \n",
       "12   0.578610  0.022584          0.509377          0.010714  \n",
       "1    0.565700  0.009120          0.502892          0.009149  \n",
       "7    0.573183  0.040722          0.515145          0.028537  "
      ]
     },
     "execution_count": 121,
     "metadata": {},
     "output_type": "execute_result"
    }
   ],
   "source": [
    "df = pandas.concat([r_article, r_numpad, r_weather, s_article, s_numpad, s_weather])\n",
    "df.head(5)"
   ]
  },
  {
   "cell_type": "code",
   "execution_count": 127,
   "metadata": {},
   "outputs": [
    {
     "data": {
      "text/html": [
       "<div>\n",
       "<style scoped>\n",
       "    .dataframe tbody tr th:only-of-type {\n",
       "        vertical-align: middle;\n",
       "    }\n",
       "\n",
       "    .dataframe tbody tr th {\n",
       "        vertical-align: top;\n",
       "    }\n",
       "\n",
       "    .dataframe thead th {\n",
       "        text-align: right;\n",
       "    }\n",
       "</style>\n",
       "<table border=\"1\" class=\"dataframe\">\n",
       "  <thead>\n",
       "    <tr style=\"text-align: right;\">\n",
       "      <th></th>\n",
       "      <th>userID</th>\n",
       "      <th>Mode</th>\n",
       "      <th>Application</th>\n",
       "      <th>Measurement</th>\n",
       "      <th>Time</th>\n",
       "    </tr>\n",
       "  </thead>\n",
       "  <tbody>\n",
       "    <tr>\n",
       "      <th>0</th>\n",
       "      <td>31</td>\n",
       "      <td>Responsive</td>\n",
       "      <td>Article</td>\n",
       "      <td>Time</td>\n",
       "      <td>17031</td>\n",
       "    </tr>\n",
       "    <tr>\n",
       "      <th>1</th>\n",
       "      <td>33</td>\n",
       "      <td>Responsive</td>\n",
       "      <td>Article</td>\n",
       "      <td>Time</td>\n",
       "      <td>18449</td>\n",
       "    </tr>\n",
       "    <tr>\n",
       "      <th>2</th>\n",
       "      <td>35</td>\n",
       "      <td>Responsive</td>\n",
       "      <td>Article</td>\n",
       "      <td>Time</td>\n",
       "      <td>29268</td>\n",
       "    </tr>\n",
       "    <tr>\n",
       "      <th>3</th>\n",
       "      <td>37</td>\n",
       "      <td>Responsive</td>\n",
       "      <td>Article</td>\n",
       "      <td>Time</td>\n",
       "      <td>15321</td>\n",
       "    </tr>\n",
       "    <tr>\n",
       "      <th>4</th>\n",
       "      <td>39</td>\n",
       "      <td>Responsive</td>\n",
       "      <td>Article</td>\n",
       "      <td>Time</td>\n",
       "      <td>22522</td>\n",
       "    </tr>\n",
       "    <tr>\n",
       "      <th>...</th>\n",
       "      <td>...</td>\n",
       "      <td>...</td>\n",
       "      <td>...</td>\n",
       "      <td>...</td>\n",
       "      <td>...</td>\n",
       "    </tr>\n",
       "    <tr>\n",
       "      <th>128</th>\n",
       "      <td>79</td>\n",
       "      <td>Static</td>\n",
       "      <td>Weather</td>\n",
       "      <td>Time</td>\n",
       "      <td>84873</td>\n",
       "    </tr>\n",
       "    <tr>\n",
       "      <th>129</th>\n",
       "      <td>80</td>\n",
       "      <td>Static</td>\n",
       "      <td>Weather</td>\n",
       "      <td>Time</td>\n",
       "      <td>217772</td>\n",
       "    </tr>\n",
       "    <tr>\n",
       "      <th>130</th>\n",
       "      <td>82</td>\n",
       "      <td>Static</td>\n",
       "      <td>Weather</td>\n",
       "      <td>Time</td>\n",
       "      <td>113693</td>\n",
       "    </tr>\n",
       "    <tr>\n",
       "      <th>131</th>\n",
       "      <td>84</td>\n",
       "      <td>Static</td>\n",
       "      <td>Weather</td>\n",
       "      <td>Time</td>\n",
       "      <td>78492</td>\n",
       "    </tr>\n",
       "    <tr>\n",
       "      <th>132</th>\n",
       "      <td>86</td>\n",
       "      <td>Static</td>\n",
       "      <td>Weather</td>\n",
       "      <td>Time</td>\n",
       "      <td>89112</td>\n",
       "    </tr>\n",
       "  </tbody>\n",
       "</table>\n",
       "<p>133 rows × 5 columns</p>\n",
       "</div>"
      ],
      "text/plain": [
       "     userID        Mode Application Measurement    Time\n",
       "0        31  Responsive     Article        Time   17031\n",
       "1        33  Responsive     Article        Time   18449\n",
       "2        35  Responsive     Article        Time   29268\n",
       "3        37  Responsive     Article        Time   15321\n",
       "4        39  Responsive     Article        Time   22522\n",
       "..      ...         ...         ...         ...     ...\n",
       "128      79      Static     Weather        Time   84873\n",
       "129      80      Static     Weather        Time  217772\n",
       "130      82      Static     Weather        Time  113693\n",
       "131      84      Static     Weather        Time   78492\n",
       "132      86      Static     Weather        Time   89112\n",
       "\n",
       "[133 rows x 5 columns]"
      ]
     },
     "execution_count": 127,
     "metadata": {},
     "output_type": "execute_result"
    }
   ],
   "source": [
    "df_melt = pandas.melt(df.reset_index(), id_vars=['userID', 'Mode', 'Application'], value_vars=['Time'])\n",
    "\n",
    "df_melt.rename(columns={\"variable\": \"Measurement\", \"value\": \"Time\"}, inplace=True)\n",
    "df_melt"
   ]
  },
  {
   "cell_type": "code",
   "execution_count": 137,
   "metadata": {},
   "outputs": [
    {
     "data": {
      "text/html": [
       "<div>\n",
       "<style scoped>\n",
       "    .dataframe tbody tr th:only-of-type {\n",
       "        vertical-align: middle;\n",
       "    }\n",
       "\n",
       "    .dataframe tbody tr th {\n",
       "        vertical-align: top;\n",
       "    }\n",
       "\n",
       "    .dataframe thead th {\n",
       "        text-align: right;\n",
       "    }\n",
       "</style>\n",
       "<table border=\"1\" class=\"dataframe\">\n",
       "  <thead>\n",
       "    <tr style=\"text-align: right;\">\n",
       "      <th></th>\n",
       "      <th>Source</th>\n",
       "      <th>SS</th>\n",
       "      <th>DF1</th>\n",
       "      <th>DF2</th>\n",
       "      <th>MS</th>\n",
       "      <th>F</th>\n",
       "      <th>p-unc</th>\n",
       "      <th>p-GG-corr</th>\n",
       "      <th>np2</th>\n",
       "      <th>eps</th>\n",
       "      <th>sphericity</th>\n",
       "      <th>W-spher</th>\n",
       "      <th>p-spher</th>\n",
       "    </tr>\n",
       "  </thead>\n",
       "  <tbody>\n",
       "    <tr>\n",
       "      <th>0</th>\n",
       "      <td>Mode</td>\n",
       "      <td>1.154088e+10</td>\n",
       "      <td>1</td>\n",
       "      <td>41</td>\n",
       "      <td>1.154088e+10</td>\n",
       "      <td>2.301917</td>\n",
       "      <td>1.368879e-01</td>\n",
       "      <td>NaN</td>\n",
       "      <td>0.053160</td>\n",
       "      <td>NaN</td>\n",
       "      <td>NaN</td>\n",
       "      <td>NaN</td>\n",
       "      <td>NaN</td>\n",
       "    </tr>\n",
       "    <tr>\n",
       "      <th>1</th>\n",
       "      <td>Application</td>\n",
       "      <td>2.630711e+11</td>\n",
       "      <td>2</td>\n",
       "      <td>82</td>\n",
       "      <td>1.315355e+11</td>\n",
       "      <td>38.448798</td>\n",
       "      <td>1.661719e-12</td>\n",
       "      <td>4.914469e-09</td>\n",
       "      <td>0.483944</td>\n",
       "      <td>0.667365</td>\n",
       "      <td>False</td>\n",
       "      <td>0.501571</td>\n",
       "      <td>7.191276e-07</td>\n",
       "    </tr>\n",
       "    <tr>\n",
       "      <th>2</th>\n",
       "      <td>Interaction</td>\n",
       "      <td>1.260873e+10</td>\n",
       "      <td>2</td>\n",
       "      <td>82</td>\n",
       "      <td>6.304365e+09</td>\n",
       "      <td>1.842812</td>\n",
       "      <td>1.648699e-01</td>\n",
       "      <td>NaN</td>\n",
       "      <td>0.043013</td>\n",
       "      <td>NaN</td>\n",
       "      <td>NaN</td>\n",
       "      <td>NaN</td>\n",
       "      <td>NaN</td>\n",
       "    </tr>\n",
       "  </tbody>\n",
       "</table>\n",
       "</div>"
      ],
      "text/plain": [
       "        Source            SS  DF1  DF2            MS          F         p-unc  \\\n",
       "0         Mode  1.154088e+10    1   41  1.154088e+10   2.301917  1.368879e-01   \n",
       "1  Application  2.630711e+11    2   82  1.315355e+11  38.448798  1.661719e-12   \n",
       "2  Interaction  1.260873e+10    2   82  6.304365e+09   1.842812  1.648699e-01   \n",
       "\n",
       "      p-GG-corr       np2       eps sphericity   W-spher       p-spher  \n",
       "0           NaN  0.053160       NaN        NaN       NaN           NaN  \n",
       "1  4.914469e-09  0.483944  0.667365      False  0.501571  7.191276e-07  \n",
       "2           NaN  0.043013       NaN        NaN       NaN           NaN  "
      ]
     },
     "execution_count": 137,
     "metadata": {},
     "output_type": "execute_result"
    }
   ],
   "source": [
    "pg.mixed_anova(dv='Time', between='Mode', within='Application', subject='userID', data=df_melt)"
   ]
  },
  {
   "cell_type": "code",
   "execution_count": 135,
   "metadata": {},
   "outputs": [
    {
     "ename": "AssertionError",
     "evalue": "covariate Application is not numeric",
     "output_type": "error",
     "traceback": [
      "\u001b[0;31m---------------------------------------------------------------------------\u001b[0m",
      "\u001b[0;31mAssertionError\u001b[0m                            Traceback (most recent call last)",
      "\u001b[0;32m/var/folders/06/c76mdmr965j6lscbpn2rw_7c0000gn/T/ipykernel_35647/2987501644.py\u001b[0m in \u001b[0;36m<module>\u001b[0;34m\u001b[0m\n\u001b[0;32m----> 1\u001b[0;31m \u001b[0mpg\u001b[0m\u001b[0;34m.\u001b[0m\u001b[0mancova\u001b[0m\u001b[0;34m(\u001b[0m\u001b[0mdv\u001b[0m\u001b[0;34m=\u001b[0m\u001b[0;34m'Time'\u001b[0m\u001b[0;34m,\u001b[0m \u001b[0mbetween\u001b[0m\u001b[0;34m=\u001b[0m\u001b[0;34m'Mode'\u001b[0m\u001b[0;34m,\u001b[0m \u001b[0mcovar\u001b[0m\u001b[0;34m=\u001b[0m\u001b[0;34m'Application'\u001b[0m\u001b[0;34m,\u001b[0m \u001b[0mdata\u001b[0m\u001b[0;34m=\u001b[0m\u001b[0mdf_melt\u001b[0m\u001b[0;34m)\u001b[0m\u001b[0;34m\u001b[0m\u001b[0;34m\u001b[0m\u001b[0m\n\u001b[0m",
      "\u001b[0;32m/Library/Frameworks/Python.framework/Versions/3.7/lib/python3.7/site-packages/pingouin/parametric.py\u001b[0m in \u001b[0;36mancova\u001b[0;34m(data, dv, between, covar, effsize)\u001b[0m\n\u001b[1;32m   1602\u001b[0m     \u001b[0;32mfor\u001b[0m \u001b[0mc\u001b[0m \u001b[0;32min\u001b[0m \u001b[0mcovar\u001b[0m\u001b[0;34m:\u001b[0m\u001b[0;34m\u001b[0m\u001b[0;34m\u001b[0m\u001b[0m\n\u001b[1;32m   1603\u001b[0m         \u001b[0;32massert\u001b[0m \u001b[0mc\u001b[0m \u001b[0;32min\u001b[0m \u001b[0mdata\u001b[0m\u001b[0;34m.\u001b[0m\u001b[0mcolumns\u001b[0m\u001b[0;34m,\u001b[0m \u001b[0;34m\"covariate %s is not in data\"\u001b[0m \u001b[0;34m%\u001b[0m \u001b[0mc\u001b[0m\u001b[0;34m\u001b[0m\u001b[0;34m\u001b[0m\u001b[0m\n\u001b[0;32m-> 1604\u001b[0;31m         \u001b[0;32massert\u001b[0m \u001b[0mdata\u001b[0m\u001b[0;34m[\u001b[0m\u001b[0mc\u001b[0m\u001b[0;34m]\u001b[0m\u001b[0;34m.\u001b[0m\u001b[0mdtype\u001b[0m\u001b[0;34m.\u001b[0m\u001b[0mkind\u001b[0m \u001b[0;32min\u001b[0m \u001b[0;34m\"bfi\"\u001b[0m\u001b[0;34m,\u001b[0m \u001b[0;34m\"covariate %s is not numeric\"\u001b[0m \u001b[0;34m%\u001b[0m \u001b[0mc\u001b[0m\u001b[0;34m\u001b[0m\u001b[0;34m\u001b[0m\u001b[0m\n\u001b[0m\u001b[1;32m   1605\u001b[0m \u001b[0;34m\u001b[0m\u001b[0m\n\u001b[1;32m   1606\u001b[0m     \u001b[0;31m# Drop missing values\u001b[0m\u001b[0;34m\u001b[0m\u001b[0;34m\u001b[0m\u001b[0;34m\u001b[0m\u001b[0m\n",
      "\u001b[0;31mAssertionError\u001b[0m: covariate Application is not numeric"
     ]
    }
   ],
   "source": []
  },
  {
   "cell_type": "code",
   "execution_count": 132,
   "metadata": {},
   "outputs": [
    {
     "name": "stdout",
     "output_type": "stream",
     "text": [
      "\n",
      "==============\n",
      "POST HOC TESTS\n",
      "==============\n",
      "\n",
      "Contrast            Application    A           B        Paired    Parametric         T     dof  alternative      p-unc         BF10    hedges\n",
      "------------------  -------------  ----------  -------  --------  ------------  ------  ------  -------------  -------  -----------  --------\n",
      "Application         -              Article     Numpad   True      True          -4.500  42.000  two-sided        0.000      426.931    -0.814\n",
      "Application         -              Article     Weather  True      True          -7.365  42.000  two-sided        0.000  2787000.000    -1.517\n",
      "Application         -              Numpad      Weather  True      True          -5.078  42.000  two-sided        0.000     2363.718    -0.995\n",
      "Mode                -              Responsive  Static   False     True           1.526  39.622  two-sided        0.135        0.756     0.454\n",
      "Application * Mode  Article        Responsive  Static   False     True          -1.147  40.086  two-sided        0.258        0.508    -0.344\n",
      "Application * Mode  Numpad         Responsive  Static   False     True           2.001  27.349  two-sided        0.055        1.444     0.589\n",
      "Application * Mode  Weather        Responsive  Static   False     True           1.293  39.850  two-sided        0.204        0.585     0.385\n",
      "\n"
     ]
    }
   ],
   "source": [
    "posthocs = pg.pairwise_ttests(dv='Time', between='Mode', within='Application', subject='userID', data=df_melt)\n",
    "pg.print_table(posthocs)"
   ]
  },
  {
   "cell_type": "code",
   "execution_count": 131,
   "metadata": {},
   "outputs": [
    {
     "name": "stdout",
     "output_type": "stream",
     "text": [
      "            Responsive    Static\n",
      "Responsive    1.000000  0.182147\n",
      "Static        0.182147  1.000000\n",
      "          Article    Numpad  Weather\n",
      "Article  1.000000  0.072732    0.001\n",
      "Numpad   0.072732  1.000000    0.001\n",
      "Weather  0.001000  0.001000    1.000\n",
      "            Responsive    Static\n",
      "Responsive    1.000000  0.493861\n",
      "Static        0.493861  1.000000\n",
      "              Article    Numpad       Weather\n",
      "Article  1.000000e+00  0.000173  2.244240e-16\n",
      "Numpad   1.730321e-04  1.000000  6.933181e-06\n",
      "Weather  2.244240e-16  0.000007  1.000000e+00\n"
     ]
    }
   ],
   "source": [
    "import scikit_posthocs\n",
    "print(scikit_posthocs.posthoc_tukey(df_melt, val_col='Time', group_col='Mode'))\n",
    "print(scikit_posthocs.posthoc_tukey(df_melt, val_col='Time', group_col='Application'))\n",
    "print(scikit_posthocs.posthoc_dunn(df_melt, val_col='Time', group_col='Mode'))\n",
    "print(scikit_posthocs.posthoc_dunn(df_melt, val_col='Time', group_col='Application'))"
   ]
  },
  {
   "cell_type": "code",
   "execution_count": 138,
   "metadata": {},
   "outputs": [
    {
     "data": {
      "text/html": [
       "<div>\n",
       "<style scoped>\n",
       "    .dataframe tbody tr th:only-of-type {\n",
       "        vertical-align: middle;\n",
       "    }\n",
       "\n",
       "    .dataframe tbody tr th {\n",
       "        vertical-align: top;\n",
       "    }\n",
       "\n",
       "    .dataframe thead th {\n",
       "        text-align: right;\n",
       "    }\n",
       "</style>\n",
       "<table border=\"1\" class=\"dataframe\">\n",
       "  <thead>\n",
       "    <tr style=\"text-align: right;\">\n",
       "      <th></th>\n",
       "      <th>Responsive</th>\n",
       "      <th>Static</th>\n",
       "    </tr>\n",
       "  </thead>\n",
       "  <tbody>\n",
       "    <tr>\n",
       "      <th>Responsive</th>\n",
       "      <td>1.000000</td>\n",
       "      <td>0.495283</td>\n",
       "    </tr>\n",
       "    <tr>\n",
       "      <th>Static</th>\n",
       "      <td>0.495283</td>\n",
       "      <td>1.000000</td>\n",
       "    </tr>\n",
       "  </tbody>\n",
       "</table>\n",
       "</div>"
      ],
      "text/plain": [
       "            Responsive    Static\n",
       "Responsive    1.000000  0.495283\n",
       "Static        0.495283  1.000000"
      ]
     },
     "execution_count": 138,
     "metadata": {},
     "output_type": "execute_result"
    }
   ],
   "source": [
    "scikit_posthocs.posthoc_mannwhitney(df_melt, val_col='Time', group_col='Mode')"
   ]
  },
  {
   "cell_type": "code",
   "execution_count": 105,
   "metadata": {},
   "outputs": [
    {
     "name": "stdout",
     "output_type": "stream",
     "text": [
      "            Responsive    Static\n",
      "Responsive    1.000000  0.701193\n",
      "Static        0.701193  1.000000\n",
      "          Article    Numpad  Weather\n",
      "Article  1.000000  0.426518    0.001\n",
      "Numpad   0.426518  1.000000    0.001\n",
      "Weather  0.001000  0.001000    1.000\n",
      "            Responsive  Static\n",
      "Responsive      1.0000  0.8641\n",
      "Static          0.8641  1.0000\n",
      "              Article        Numpad       Weather\n",
      "Article  1.000000e+00  5.362710e-08  3.457844e-08\n",
      "Numpad   5.362710e-08  1.000000e+00  1.241960e-27\n",
      "Weather  3.457844e-08  1.241960e-27  1.000000e+00\n"
     ]
    }
   ],
   "source": [
    "df_melt = pandas.melt(df.reset_index(), id_vars=['userID', 'Mode', 'Application'], value_vars=['Guesses'])\n",
    "\n",
    "pg.mixed_anova(dv='value', between='Mode', within='Application', subject='userID', data=df_melt)\n",
    "\n",
    "print(scikit_posthocs.posthoc_tukey(df_melt, val_col='value', group_col='Mode'))\n",
    "print(scikit_posthocs.posthoc_tukey(df_melt, val_col='value', group_col='Application'))\n",
    "print(scikit_posthocs.posthoc_dunn(df_melt, val_col='value', group_col='Mode'))\n",
    "print(scikit_posthocs.posthoc_dunn(df_melt, val_col='value', group_col='Application'))"
   ]
  },
  {
   "cell_type": "code",
   "execution_count": 106,
   "metadata": {},
   "outputs": [
    {
     "name": "stdout",
     "output_type": "stream",
     "text": [
      "            Responsive    Static\n",
      "Responsive    1.000000  0.161081\n",
      "Static        0.161081  1.000000\n",
      "          Article  Numpad   Weather\n",
      "Article  1.000000   0.001  0.754945\n",
      "Numpad   0.001000   1.000  0.001000\n",
      "Weather  0.754945   0.001  1.000000\n",
      "            Responsive   Static\n",
      "Responsive     1.00000  0.13744\n",
      "Static         0.13744  1.00000\n",
      "              Article        Numpad       Weather\n",
      "Article  1.000000e+00  8.401693e-08  6.168680e-01\n",
      "Numpad   8.401693e-08  1.000000e+00  6.737630e-09\n",
      "Weather  6.168680e-01  6.737630e-09  1.000000e+00\n"
     ]
    }
   ],
   "source": [
    "df_melt = pandas.melt(df.reset_index(), id_vars=['userID', 'Mode', 'Application'], value_vars=['Avg Dist'])\n",
    "\n",
    "pg.mixed_anova(dv='value', between='Mode', within='Application', subject='userID', data=df_melt)\n",
    "import scikit_posthocs\n",
    "print(scikit_posthocs.posthoc_tukey(df_melt, val_col='value', group_col='Mode'))\n",
    "print(scikit_posthocs.posthoc_tukey(df_melt, val_col='value', group_col='Application'))\n",
    "print(scikit_posthocs.posthoc_dunn(df_melt, val_col='value', group_col='Mode'))\n",
    "print(scikit_posthocs.posthoc_dunn(df_melt, val_col='value', group_col='Application'))"
   ]
  },
  {
   "cell_type": "code",
   "execution_count": 107,
   "metadata": {},
   "outputs": [
    {
     "name": "stdout",
     "output_type": "stream",
     "text": [
      "            Responsive    Static\n",
      "Responsive    1.000000  0.140655\n",
      "Static        0.140655  1.000000\n",
      "          Article    Numpad  Weather\n",
      "Article  1.000000  0.004413    0.001\n",
      "Numpad   0.004413  1.000000    0.001\n",
      "Weather  0.001000  0.001000    1.000\n",
      "            Responsive   Static\n",
      "Responsive     1.00000  0.13744\n",
      "Static         0.13744  1.00000\n",
      "              Article    Numpad       Weather\n",
      "Article  1.000000e+00  0.000175  1.340294e-11\n",
      "Numpad   1.749316e-04  1.000000  2.255133e-03\n",
      "Weather  1.340294e-11  0.002255  1.000000e+00\n"
     ]
    }
   ],
   "source": [
    "df_melt = pandas.melt(df.reset_index(), id_vars=['userID', 'Mode', 'Application'], value_vars=['Std Dist'])\n",
    "\n",
    "pg.mixed_anova(dv='value', between='Mode', within='Application', subject='userID', data=df_melt)\n",
    "import scikit_posthocs\n",
    "print(scikit_posthocs.posthoc_tukey(df_melt, val_col='value', group_col='Mode'))\n",
    "print(scikit_posthocs.posthoc_tukey(df_melt, val_col='value', group_col='Application'))\n",
    "print(scikit_posthocs.posthoc_dunn(df_melt, val_col='value', group_col='Mode'))\n",
    "print(scikit_posthocs.posthoc_dunn(df_melt, val_col='value', group_col='Application'))"
   ]
  },
  {
   "cell_type": "code",
   "execution_count": 14,
   "metadata": {},
   "outputs": [],
   "source": [
    "#df_melt >> group_by(X.Mode, X.Application, X.variable) >> summarize(n=X['value'].count(), mean=X['value'].mean(), std=X['value'].std())"
   ]
  },
  {
   "cell_type": "code",
   "execution_count": 103,
   "metadata": {},
   "outputs": [
    {
     "data": {
      "image/png": "[encoded data removed]",
      "text/plain": [
       "<Figure size 432x288 with 1 Axes>"
      ]
     },
     "metadata": {
      "needs_background": "light"
     },
     "output_type": "display_data"
    }
   ],
   "source": [
    "ax = sns.boxplot(x='Mode', y='value', hue='variable', data=df_melt)\n",
    "plt.show()"
   ]
  },
  {
   "cell_type": "code",
   "execution_count": 85,
   "metadata": {},
   "outputs": [
    {
     "data": {
      "text/html": [
       "<div>\n",
       "<style scoped>\n",
       "    .dataframe tbody tr th:only-of-type {\n",
       "        vertical-align: middle;\n",
       "    }\n",
       "\n",
       "    .dataframe tbody tr th {\n",
       "        vertical-align: top;\n",
       "    }\n",
       "\n",
       "    .dataframe thead th {\n",
       "        text-align: right;\n",
       "    }\n",
       "</style>\n",
       "<table border=\"1\" class=\"dataframe\">\n",
       "  <thead>\n",
       "    <tr style=\"text-align: right;\">\n",
       "      <th></th>\n",
       "      <th>Source</th>\n",
       "      <th>SS</th>\n",
       "      <th>DF1</th>\n",
       "      <th>DF2</th>\n",
       "      <th>MS</th>\n",
       "      <th>F</th>\n",
       "      <th>p-unc</th>\n",
       "      <th>p-GG-corr</th>\n",
       "      <th>np2</th>\n",
       "      <th>eps</th>\n",
       "      <th>sphericity</th>\n",
       "      <th>W-spher</th>\n",
       "      <th>p-spher</th>\n",
       "    </tr>\n",
       "  </thead>\n",
       "  <tbody>\n",
       "    <tr>\n",
       "      <th>0</th>\n",
       "      <td>Mode</td>\n",
       "      <td>7.214334e+08</td>\n",
       "      <td>1</td>\n",
       "      <td>41</td>\n",
       "      <td>7.214334e+08</td>\n",
       "      <td>2.301694</td>\n",
       "      <td>1.369064e-01</td>\n",
       "      <td>NaN</td>\n",
       "      <td>0.053155</td>\n",
       "      <td>NaN</td>\n",
       "      <td>NaN</td>\n",
       "      <td>NaN</td>\n",
       "      <td>NaN</td>\n",
       "    </tr>\n",
       "    <tr>\n",
       "      <th>1</th>\n",
       "      <td>Application</td>\n",
       "      <td>1.645419e+10</td>\n",
       "      <td>2</td>\n",
       "      <td>82</td>\n",
       "      <td>8.227093e+09</td>\n",
       "      <td>38.466931</td>\n",
       "      <td>1.646244e-12</td>\n",
       "      <td>4.888750e-09</td>\n",
       "      <td>0.484062</td>\n",
       "      <td>0.667318</td>\n",
       "      <td>False</td>\n",
       "      <td>0.501465</td>\n",
       "      <td>7.160246e-07</td>\n",
       "    </tr>\n",
       "    <tr>\n",
       "      <th>2</th>\n",
       "      <td>Interaction</td>\n",
       "      <td>7.882293e+08</td>\n",
       "      <td>2</td>\n",
       "      <td>82</td>\n",
       "      <td>3.941146e+08</td>\n",
       "      <td>1.842738</td>\n",
       "      <td>1.648815e-01</td>\n",
       "      <td>NaN</td>\n",
       "      <td>0.043012</td>\n",
       "      <td>NaN</td>\n",
       "      <td>NaN</td>\n",
       "      <td>NaN</td>\n",
       "      <td>NaN</td>\n",
       "    </tr>\n",
       "  </tbody>\n",
       "</table>\n",
       "</div>"
      ],
      "text/plain": [
       "        Source            SS  DF1  DF2            MS          F         p-unc  \\\n",
       "0         Mode  7.214334e+08    1   41  7.214334e+08   2.301694  1.369064e-01   \n",
       "1  Application  1.645419e+10    2   82  8.227093e+09  38.466931  1.646244e-12   \n",
       "2  Interaction  7.882293e+08    2   82  3.941146e+08   1.842738  1.648815e-01   \n",
       "\n",
       "      p-GG-corr       np2       eps sphericity   W-spher       p-spher  \n",
       "0           NaN  0.053155       NaN        NaN       NaN           NaN  \n",
       "1  4.888750e-09  0.484062  0.667318      False  0.501465  7.160246e-07  \n",
       "2           NaN  0.043012       NaN        NaN       NaN           NaN  "
      ]
     },
     "execution_count": 85,
     "metadata": {},
     "output_type": "execute_result"
    }
   ],
   "source": [
    "pg.mixed_anova(dv='value', between='Mode', within='Application', subject='userID', data=df_melt)"
   ]
  },
  {
   "cell_type": "code",
   "execution_count": 86,
   "metadata": {},
   "outputs": [
    {
     "name": "stdout",
     "output_type": "stream",
     "text": [
      "sphericity assumption\n"
     ]
    },
    {
     "data": {
      "text/plain": [
       "7.160246348759721e-07"
      ]
     },
     "execution_count": 86,
     "metadata": {},
     "output_type": "execute_result"
    }
   ],
   "source": [
    "print(\"sphericity assumption\")\n",
    "pg.sphericity(data=df_melt, dv='value', subject='userID', within='Application')[-1]"
   ]
  },
  {
   "cell_type": "code",
   "execution_count": 87,
   "metadata": {},
   "outputs": [
    {
     "name": "stdout",
     "output_type": "stream",
     "text": [
      "normal assumption\n"
     ]
    },
    {
     "data": {
      "text/html": [
       "<div>\n",
       "<style scoped>\n",
       "    .dataframe tbody tr th:only-of-type {\n",
       "        vertical-align: middle;\n",
       "    }\n",
       "\n",
       "    .dataframe tbody tr th {\n",
       "        vertical-align: top;\n",
       "    }\n",
       "\n",
       "    .dataframe thead th {\n",
       "        text-align: right;\n",
       "    }\n",
       "</style>\n",
       "<table border=\"1\" class=\"dataframe\">\n",
       "  <thead>\n",
       "    <tr style=\"text-align: right;\">\n",
       "      <th></th>\n",
       "      <th>W</th>\n",
       "      <th>pval</th>\n",
       "      <th>normal</th>\n",
       "    </tr>\n",
       "  </thead>\n",
       "  <tbody>\n",
       "    <tr>\n",
       "      <th>Responsive-Article</th>\n",
       "      <td>0.544567</td>\n",
       "      <td>1.980526e-15</td>\n",
       "      <td>False</td>\n",
       "    </tr>\n",
       "    <tr>\n",
       "      <th>Responsive-Numpad</th>\n",
       "      <td>0.512730</td>\n",
       "      <td>5.955808e-16</td>\n",
       "      <td>False</td>\n",
       "    </tr>\n",
       "    <tr>\n",
       "      <th>Responsive-Weather</th>\n",
       "      <td>0.544121</td>\n",
       "      <td>4.317611e-15</td>\n",
       "      <td>False</td>\n",
       "    </tr>\n",
       "    <tr>\n",
       "      <th>Static-Article</th>\n",
       "      <td>0.560638</td>\n",
       "      <td>8.168145e-15</td>\n",
       "      <td>False</td>\n",
       "    </tr>\n",
       "    <tr>\n",
       "      <th>Static-Numpad</th>\n",
       "      <td>0.586296</td>\n",
       "      <td>2.277945e-14</td>\n",
       "      <td>False</td>\n",
       "    </tr>\n",
       "    <tr>\n",
       "      <th>Static-Weather</th>\n",
       "      <td>0.539753</td>\n",
       "      <td>8.308014e-15</td>\n",
       "      <td>False</td>\n",
       "    </tr>\n",
       "  </tbody>\n",
       "</table>\n",
       "</div>"
      ],
      "text/plain": [
       "                           W          pval  normal\n",
       "Responsive-Article  0.544567  1.980526e-15   False\n",
       "Responsive-Numpad   0.512730  5.955808e-16   False\n",
       "Responsive-Weather  0.544121  4.317611e-15   False\n",
       "Static-Article      0.560638  8.168145e-15   False\n",
       "Static-Numpad       0.586296  2.277945e-14   False\n",
       "Static-Weather      0.539753  8.308014e-15   False"
      ]
     },
     "execution_count": 87,
     "metadata": {},
     "output_type": "execute_result"
    }
   ],
   "source": [
    "\n",
    "print(\"normal assumption\")\n",
    "df_melt['factor_comb']=df_melt[\"Mode\"] + '-'+df_melt[\"Application\"]\n",
    "pg.normality(df_melt, dv='value', group='factor_comb')"
   ]
  },
  {
   "cell_type": "code",
   "execution_count": 25,
   "metadata": {},
   "outputs": [
    {
     "data": {
      "text/html": [
       "<div>\n",
       "<style scoped>\n",
       "    .dataframe tbody tr th:only-of-type {\n",
       "        vertical-align: middle;\n",
       "    }\n",
       "\n",
       "    .dataframe tbody tr th {\n",
       "        vertical-align: top;\n",
       "    }\n",
       "\n",
       "    .dataframe thead th {\n",
       "        text-align: right;\n",
       "    }\n",
       "</style>\n",
       "<table border=\"1\" class=\"dataframe\">\n",
       "  <thead>\n",
       "    <tr style=\"text-align: right;\">\n",
       "      <th></th>\n",
       "      <th>W</th>\n",
       "      <th>pval</th>\n",
       "      <th>equal_var</th>\n",
       "    </tr>\n",
       "  </thead>\n",
       "  <tbody>\n",
       "    <tr>\n",
       "      <th>levene</th>\n",
       "      <td>3.025537</td>\n",
       "      <td>0.084312</td>\n",
       "      <td>True</td>\n",
       "    </tr>\n",
       "  </tbody>\n",
       "</table>\n",
       "</div>"
      ],
      "text/plain": [
       "               W      pval  equal_var\n",
       "levene  3.025537  0.084312       True"
      ]
     },
     "execution_count": 25,
     "metadata": {},
     "output_type": "execute_result"
    }
   ],
   "source": [
    "df_melt_time = pandas.melt(df.reset_index(), id_vars=['userID', 'Application', 'Mode'], value_vars=['Time'])\n",
    "\n",
    "pg.homoscedasticity(df_melt_time, dv='value', group='Mode')"
   ]
  },
  {
   "cell_type": "code",
   "execution_count": 46,
   "metadata": {},
   "outputs": [
    {
     "data": {
      "text/html": [
       "<div>\n",
       "<style scoped>\n",
       "    .dataframe tbody tr th:only-of-type {\n",
       "        vertical-align: middle;\n",
       "    }\n",
       "\n",
       "    .dataframe tbody tr th {\n",
       "        vertical-align: top;\n",
       "    }\n",
       "\n",
       "    .dataframe thead th {\n",
       "        text-align: right;\n",
       "    }\n",
       "</style>\n",
       "<table border=\"1\" class=\"dataframe\">\n",
       "  <thead>\n",
       "    <tr style=\"text-align: right;\">\n",
       "      <th></th>\n",
       "      <th>userID</th>\n",
       "      <th>Application</th>\n",
       "      <th>Mode</th>\n",
       "      <th>variable</th>\n",
       "      <th>value</th>\n",
       "    </tr>\n",
       "  </thead>\n",
       "  <tbody>\n",
       "    <tr>\n",
       "      <th>0</th>\n",
       "      <td>31</td>\n",
       "      <td>Article</td>\n",
       "      <td>Responsive</td>\n",
       "      <td>Time</td>\n",
       "      <td>17031</td>\n",
       "    </tr>\n",
       "    <tr>\n",
       "      <th>1</th>\n",
       "      <td>33</td>\n",
       "      <td>Article</td>\n",
       "      <td>Responsive</td>\n",
       "      <td>Time</td>\n",
       "      <td>18449</td>\n",
       "    </tr>\n",
       "    <tr>\n",
       "      <th>2</th>\n",
       "      <td>35</td>\n",
       "      <td>Article</td>\n",
       "      <td>Responsive</td>\n",
       "      <td>Time</td>\n",
       "      <td>29268</td>\n",
       "    </tr>\n",
       "    <tr>\n",
       "      <th>3</th>\n",
       "      <td>37</td>\n",
       "      <td>Article</td>\n",
       "      <td>Responsive</td>\n",
       "      <td>Time</td>\n",
       "      <td>15321</td>\n",
       "    </tr>\n",
       "    <tr>\n",
       "      <th>4</th>\n",
       "      <td>39</td>\n",
       "      <td>Article</td>\n",
       "      <td>Responsive</td>\n",
       "      <td>Time</td>\n",
       "      <td>22522</td>\n",
       "    </tr>\n",
       "    <tr>\n",
       "      <th>...</th>\n",
       "      <td>...</td>\n",
       "      <td>...</td>\n",
       "      <td>...</td>\n",
       "      <td>...</td>\n",
       "      <td>...</td>\n",
       "    </tr>\n",
       "    <tr>\n",
       "      <th>128</th>\n",
       "      <td>79</td>\n",
       "      <td>Weather</td>\n",
       "      <td>Static</td>\n",
       "      <td>Time</td>\n",
       "      <td>84873</td>\n",
       "    </tr>\n",
       "    <tr>\n",
       "      <th>129</th>\n",
       "      <td>80</td>\n",
       "      <td>Weather</td>\n",
       "      <td>Static</td>\n",
       "      <td>Time</td>\n",
       "      <td>217772</td>\n",
       "    </tr>\n",
       "    <tr>\n",
       "      <th>130</th>\n",
       "      <td>82</td>\n",
       "      <td>Weather</td>\n",
       "      <td>Static</td>\n",
       "      <td>Time</td>\n",
       "      <td>113693</td>\n",
       "    </tr>\n",
       "    <tr>\n",
       "      <th>131</th>\n",
       "      <td>84</td>\n",
       "      <td>Weather</td>\n",
       "      <td>Static</td>\n",
       "      <td>Time</td>\n",
       "      <td>78492</td>\n",
       "    </tr>\n",
       "    <tr>\n",
       "      <th>132</th>\n",
       "      <td>86</td>\n",
       "      <td>Weather</td>\n",
       "      <td>Static</td>\n",
       "      <td>Time</td>\n",
       "      <td>89112</td>\n",
       "    </tr>\n",
       "  </tbody>\n",
       "</table>\n",
       "<p>133 rows × 5 columns</p>\n",
       "</div>"
      ],
      "text/plain": [
       "     userID Application        Mode variable   value\n",
       "0        31     Article  Responsive     Time   17031\n",
       "1        33     Article  Responsive     Time   18449\n",
       "2        35     Article  Responsive     Time   29268\n",
       "3        37     Article  Responsive     Time   15321\n",
       "4        39     Article  Responsive     Time   22522\n",
       "..      ...         ...         ...      ...     ...\n",
       "128      79     Weather      Static     Time   84873\n",
       "129      80     Weather      Static     Time  217772\n",
       "130      82     Weather      Static     Time  113693\n",
       "131      84     Weather      Static     Time   78492\n",
       "132      86     Weather      Static     Time   89112\n",
       "\n",
       "[133 rows x 5 columns]"
      ]
     },
     "execution_count": 46,
     "metadata": {},
     "output_type": "execute_result"
    }
   ],
   "source": [
    "df_melt_time"
   ]
  },
  {
   "cell_type": "code",
   "execution_count": 109,
   "metadata": {},
   "outputs": [
    {
     "data": {
      "text/html": [
       "<div>\n",
       "<style scoped>\n",
       "    .dataframe tbody tr th:only-of-type {\n",
       "        vertical-align: middle;\n",
       "    }\n",
       "\n",
       "    .dataframe tbody tr th {\n",
       "        vertical-align: top;\n",
       "    }\n",
       "\n",
       "    .dataframe thead th {\n",
       "        text-align: right;\n",
       "    }\n",
       "</style>\n",
       "<table border=\"1\" class=\"dataframe\">\n",
       "  <thead>\n",
       "    <tr style=\"text-align: right;\">\n",
       "      <th></th>\n",
       "      <th>Source</th>\n",
       "      <th>W</th>\n",
       "      <th>ddof1</th>\n",
       "      <th>Q</th>\n",
       "      <th>p-unc</th>\n",
       "    </tr>\n",
       "  </thead>\n",
       "  <tbody>\n",
       "    <tr>\n",
       "      <th>Friedman</th>\n",
       "      <td>Application</td>\n",
       "      <td>0.7404</td>\n",
       "      <td>2</td>\n",
       "      <td>63.674419</td>\n",
       "      <td>1.490307e-14</td>\n",
       "    </tr>\n",
       "  </tbody>\n",
       "</table>\n",
       "</div>"
      ],
      "text/plain": [
       "               Source       W  ddof1          Q         p-unc\n",
       "Friedman  Application  0.7404      2  63.674419  1.490307e-14"
      ]
     },
     "execution_count": 109,
     "metadata": {},
     "output_type": "execute_result"
    }
   ],
   "source": [
    "pg.friedman(dv='value', within='Application', subject='userID', data=df_melt)\n"
   ]
  },
  {
   "cell_type": "code",
   "execution_count": 73,
   "metadata": {},
   "outputs": [
    {
     "name": "stdout",
     "output_type": "stream",
     "text": [
      "            Responsive    Static\n",
      "Responsive    1.000000  0.182147\n",
      "Static        0.182147  1.000000\n",
      "          Article    Numpad  Weather\n",
      "Article  1.000000  0.072732    0.001\n",
      "Numpad   0.072732  1.000000    0.001\n",
      "Weather  0.001000  0.001000    1.000\n",
      "            Responsive    Static\n",
      "Responsive    1.000000  0.493861\n",
      "Static        0.493861  1.000000\n",
      "              Article    Numpad       Weather\n",
      "Article  1.000000e+00  0.000173  2.244240e-16\n",
      "Numpad   1.730321e-04  1.000000  6.933181e-06\n",
      "Weather  2.244240e-16  0.000007  1.000000e+00\n"
     ]
    }
   ],
   "source": [
    "\n",
    "import scikit_posthocs\n",
    "print(scikit_posthocs.posthoc_tukey(df_melt, val_col='value', group_col='Mode'))\n",
    "print(scikit_posthocs.posthoc_tukey(df_melt, val_col='value', group_col='Application'))\n",
    "print(scikit_posthocs.posthoc_dunn(df_melt, val_col='value', group_col='Mode'))\n",
    "print(scikit_posthocs.posthoc_dunn(df_melt, val_col='value', group_col='Application'))"
   ]
  },
  {
   "cell_type": "code",
   "execution_count": 43,
   "metadata": {},
   "outputs": [
    {
     "name": "stdout",
     "output_type": "stream",
     "text": [
      "s_weather.shape[0]: 21\n",
      "s_numpad.shape[0]: 22\n",
      "s_article.shape[0]: 22\n",
      "r_weather.shape[0]: 22\n",
      "r_numpad.shape[0]: 23\n",
      "r_article.shape[0]: 23\n"
     ]
    }
   ],
   "source": [
    "print(f\"s_weather.shape[0]: {s_weather.shape[0]}\")\n",
    "print(f\"s_numpad.shape[0]: {s_numpad.shape[0]}\")\n",
    "print(f\"s_article.shape[0]: {s_article.shape[0]}\")\n",
    "print(f\"r_weather.shape[0]: {r_weather.shape[0]}\")\n",
    "print(f\"r_numpad.shape[0]: {r_numpad.shape[0]}\")\n",
    "print(f\"r_article.shape[0]: {r_article.shape[0]}\")"
   ]
  },
  {
   "cell_type": "code",
   "execution_count": 44,
   "metadata": {},
   "outputs": [
    {
     "data": {
      "text/plain": [
       "BrunnerMunzelResult(statistic=1.7617921601050401, pvalue=0.08592163870551062)"
      ]
     },
     "execution_count": 44,
     "metadata": {},
     "output_type": "execute_result"
    }
   ],
   "source": [
    "scipy.stats.brunnermunzel(r_article['Time'], s_article['Time'])"
   ]
  },
  {
   "cell_type": "code",
   "execution_count": 53,
   "metadata": {},
   "outputs": [
    {
     "name": "stdout",
     "output_type": "stream",
     "text": [
      "Guesses\n",
      "          1             2             3         4             5             6\n",
      "1  1.000000  2.251518e-05  5.118697e-04  0.521762  4.816387e-05  2.753837e-04\n",
      "2  0.000023  1.000000e+00  1.812715e-14  0.000268  8.252185e-01  3.386082e-15\n",
      "3  0.000512  1.812715e-14  1.000000e+00  0.000034  5.162618e-14  9.041601e-01\n",
      "4  0.521762  2.678394e-04  3.399220e-05  1.000000  5.353426e-04  1.572757e-05\n",
      "5  0.000048  8.252185e-01  5.162618e-14  0.000535  1.000000e+00  9.788385e-15\n",
      "6  0.000275  3.386082e-15  9.041601e-01  0.000016  9.788385e-15  1.000000e+00\n",
      "              1             2             3             4             5  \\\n",
      "1  1.000000e+00  2.857769e-09  1.820553e-08  6.398755e-02  1.207486e-08   \n",
      "2  2.857769e-09  1.000000e+00  4.586339e-09  1.762837e-09  6.652817e-01   \n",
      "3  1.820553e-08  4.586339e-09  1.000000e+00  1.081592e-08  3.475343e-09   \n",
      "4  6.398755e-02  1.762837e-09  1.081592e-08  1.000000e+00  1.737432e-08   \n",
      "5  1.207486e-08  6.652817e-01  3.475343e-09  1.737432e-08  1.000000e+00   \n",
      "6  1.232343e-08  3.329826e-09  7.238831e-01  7.247731e-09  2.461739e-09   \n",
      "\n",
      "              6  \n",
      "1  1.232343e-08  \n",
      "2  3.329826e-09  \n",
      "3  7.238831e-01  \n",
      "4  7.247731e-09  \n",
      "5  2.461739e-09  \n",
      "6  1.000000e+00  \n"
     ]
    }
   ],
   "source": [
    "data = [s_article['Guesses'], s_numpad['Guesses'], s_weather['Guesses'], r_article['Guesses'], r_numpad['Guesses'], r_weather['Guesses']]\n",
    "print(\"Guesses\")\n",
    "print(scikit_posthocs.posthoc_dunn(data))\n",
    "print(scikit_posthocs.posthoc_mannwhitney(data))"
   ]
  },
  {
   "cell_type": "code",
   "execution_count": 71,
   "metadata": {},
   "outputs": [
    {
     "name": "stdout",
     "output_type": "stream",
     "text": [
      "Time\n",
      "              1         2             3             4         5             6\n",
      "1  1.000000e+00  0.139223  2.333048e-06  3.036334e-01  0.006227  7.925733e-09\n",
      "2  1.392225e-01  1.000000  1.110965e-03  1.161253e-02  0.214780  1.776000e-05\n",
      "3  2.333048e-06  0.001111  1.000000e+00  7.058450e-09  0.038426  3.269182e-01\n",
      "4  3.036334e-01  0.011613  7.058450e-09  1.000000e+00  0.000141  6.768362e-12\n",
      "5  6.227396e-03  0.214780  3.842592e-02  1.407939e-04  1.000000  1.946816e-03\n",
      "6  7.925733e-09  0.000018  3.269182e-01  6.768362e-12  0.001947  1.000000e+00\n",
      "              1             2             3             4         5  \\\n",
      "1  1.000000e+00  2.654371e-02  2.910005e-06  9.072595e-02  0.001538   \n",
      "2  2.654371e-02  1.000000e+00  8.713380e-05  5.349202e-04  0.099729   \n",
      "3  2.910005e-06  8.713380e-05  1.000000e+00  4.375829e-07  0.010432   \n",
      "4  9.072595e-02  5.349202e-04  4.375829e-07  1.000000e+00  0.000033   \n",
      "5  1.537787e-03  9.972894e-02  1.043223e-02  3.293301e-05  1.000000   \n",
      "6  2.270409e-07  9.878544e-07  1.351146e-01  6.117618e-08  0.000119   \n",
      "\n",
      "              6  \n",
      "1  2.270409e-07  \n",
      "2  9.878544e-07  \n",
      "3  1.351146e-01  \n",
      "4  6.117618e-08  \n",
      "5  1.187803e-04  \n",
      "6  1.000000e+00  \n"
     ]
    }
   ],
   "source": [
    "data = [s_article['Time'], s_numpad['Time'], s_weather['Time'], r_article['Time'], r_numpad['Time'], r_weather['Time']]\n",
    "print(\"Time\")\n",
    "print(scikit_posthocs.posthoc_dunn(data))\n",
    "print(scikit_posthocs.posthoc_mannwhitney(data))"
   ]
  },
  {
   "cell_type": "code",
   "execution_count": 70,
   "metadata": {},
   "outputs": [
    {
     "data": {
      "text/html": [
       "<div>\n",
       "<style scoped>\n",
       "    .dataframe tbody tr th:only-of-type {\n",
       "        vertical-align: middle;\n",
       "    }\n",
       "\n",
       "    .dataframe tbody tr th {\n",
       "        vertical-align: top;\n",
       "    }\n",
       "\n",
       "    .dataframe thead th {\n",
       "        text-align: right;\n",
       "    }\n",
       "</style>\n",
       "<table border=\"1\" class=\"dataframe\">\n",
       "  <thead>\n",
       "    <tr style=\"text-align: right;\">\n",
       "      <th></th>\n",
       "      <th>1</th>\n",
       "      <th>2</th>\n",
       "      <th>3</th>\n",
       "      <th>4</th>\n",
       "      <th>5</th>\n",
       "      <th>6</th>\n",
       "    </tr>\n",
       "  </thead>\n",
       "  <tbody>\n",
       "    <tr>\n",
       "      <th>1</th>\n",
       "      <td>1.000000e+00</td>\n",
       "      <td>3.471856e-02</td>\n",
       "      <td>3.370167e-10</td>\n",
       "      <td>1.400394e-01</td>\n",
       "      <td>1.293644e-04</td>\n",
       "      <td>1.120571e-13</td>\n",
       "    </tr>\n",
       "    <tr>\n",
       "      <th>2</th>\n",
       "      <td>3.471856e-02</td>\n",
       "      <td>1.000000e+00</td>\n",
       "      <td>6.469851e-06</td>\n",
       "      <td>3.911192e-04</td>\n",
       "      <td>7.571436e-02</td>\n",
       "      <td>7.492637e-09</td>\n",
       "    </tr>\n",
       "    <tr>\n",
       "      <th>3</th>\n",
       "      <td>3.370167e-10</td>\n",
       "      <td>6.469851e-06</td>\n",
       "      <td>1.000000e+00</td>\n",
       "      <td>9.608479e-14</td>\n",
       "      <td>3.366076e-03</td>\n",
       "      <td>1.594681e-01</td>\n",
       "    </tr>\n",
       "    <tr>\n",
       "      <th>4</th>\n",
       "      <td>1.400394e-01</td>\n",
       "      <td>3.911192e-04</td>\n",
       "      <td>9.608479e-14</td>\n",
       "      <td>1.000000e+00</td>\n",
       "      <td>2.048651e-07</td>\n",
       "      <td>1.724927e-17</td>\n",
       "    </tr>\n",
       "    <tr>\n",
       "      <th>5</th>\n",
       "      <td>1.293644e-04</td>\n",
       "      <td>7.571436e-02</td>\n",
       "      <td>3.366076e-03</td>\n",
       "      <td>2.048651e-07</td>\n",
       "      <td>1.000000e+00</td>\n",
       "      <td>1.696088e-05</td>\n",
       "    </tr>\n",
       "    <tr>\n",
       "      <th>6</th>\n",
       "      <td>1.120571e-13</td>\n",
       "      <td>7.492637e-09</td>\n",
       "      <td>1.594681e-01</td>\n",
       "      <td>1.724927e-17</td>\n",
       "      <td>1.696088e-05</td>\n",
       "      <td>1.000000e+00</td>\n",
       "    </tr>\n",
       "  </tbody>\n",
       "</table>\n",
       "</div>"
      ],
      "text/plain": [
       "              1             2             3             4             5  \\\n",
       "1  1.000000e+00  3.471856e-02  3.370167e-10  1.400394e-01  1.293644e-04   \n",
       "2  3.471856e-02  1.000000e+00  6.469851e-06  3.911192e-04  7.571436e-02   \n",
       "3  3.370167e-10  6.469851e-06  1.000000e+00  9.608479e-14  3.366076e-03   \n",
       "4  1.400394e-01  3.911192e-04  9.608479e-14  1.000000e+00  2.048651e-07   \n",
       "5  1.293644e-04  7.571436e-02  3.366076e-03  2.048651e-07  1.000000e+00   \n",
       "6  1.120571e-13  7.492637e-09  1.594681e-01  1.724927e-17  1.696088e-05   \n",
       "\n",
       "              6  \n",
       "1  1.120571e-13  \n",
       "2  7.492637e-09  \n",
       "3  1.594681e-01  \n",
       "4  1.724927e-17  \n",
       "5  1.696088e-05  \n",
       "6  1.000000e+00  "
      ]
     },
     "execution_count": 70,
     "metadata": {},
     "output_type": "execute_result"
    }
   ],
   "source": []
  }
 ],
 "metadata": {
  "interpreter": {
   "hash": "aee8b7b246df8f9039afb4144a1f6fd8d2ca17a180786b69acc140d282b71a49"
  },
  "kernelspec": {
   "display_name": "Python 3.7.9 64-bit",
   "language": "python",
   "name": "python3"
  },
  "language_info": {
   "codemirror_mode": {
    "name": "ipython",
    "version": 3
   },
   "file_extension": ".py",
   "mimetype": "text/x-python",
   "name": "python",
   "nbconvert_exporter": "python",
   "pygments_lexer": "ipython3",
   "version": "3.7.9"
  },
  "orig_nbformat": 4
 },
 "nbformat": 4,
 "nbformat_minor": 2
}
