{
 "cells": [
  {
   "cell_type": "code",
   "execution_count": 1,
   "metadata": {},
   "outputs": [],
   "source": [
    "import json\n",
    "import os\n",
    "\n",
    "'''\n",
    "    My Hyporthesis:\n",
    "    1. tasks 0,1,2,4,6,7,8 the resposnive deisgn will have faster total_times (group B)\n",
    "    2. task 3,5 nonresponsive design will have a faster time (group A)\n",
    "        - last article task, last calc task\n",
    "\n",
    "    Reasons:\n",
    "    1. Responsive design shows less content making it easier to find and faster to complete task\n",
    "    2. The participant already knows there that content is from seeing it in earlier tasks and therefore will be able to find it quicker. There is no display difference in these\n",
    "        two tasks so the time difference could be neglible. However, i think the knowledge of the application gained in previous tasks will result in a smaller total_time for the nonresponsive (group A) participants\n",
    "'''\n"
   ]
  },
  {
   "cell_type": "code",
   "execution_count": 2,
   "metadata": {},
   "outputs": [
    {
     "name": "stdout",
     "output_type": "stream",
     "text": [
      "Files and directories in ' C://Users//FourEyes//Downloads//ResponsiveAR//Experiment ' :\n",
      "['1652296620214', '1652296815907']\n",
      "['C://Users//FourEyes//Downloads//ResponsiveAR//Experiment//1652296620214//', 'C://Users//FourEyes//Downloads//ResponsiveAR//Experiment//1652296815907//']\n"
     ]
    }
   ],
   "source": [
    "path = \"C://Users//FourEyes//Downloads//ResponsiveAR//Experiment\"\n",
    "dir_list = os.listdir(path)\n",
    " \n",
    "print(\"Files and directories in '\", path, \"' :\")\n",
    " \n",
    "# prints all files\n",
    "print(dir_list)\n",
    "\n",
    "exp_paths = []\n",
    "\n",
    "for filename in dir_list:\n",
    "    exp_paths.append(path + \"//\" + filename + \"//\")\n",
    "\n",
    "print(exp_paths)"
   ]
  },
  {
   "cell_type": "code",
   "execution_count": 5,
   "metadata": {},
   "outputs": [],
   "source": [
    "responsiveData = []\n",
    "experimentEvents = []\n",
    "\n",
    "def parseFrame(frames):\n",
    "    #frames = json_data[\"frames\"]\n",
    "    for frame in frames:\n",
    "        responsiveEvent = frame[\"responsiveData\"]\n",
    "        experimentEvent = frame[\"experimentEvents\"]\n",
    "        experimentEvent = frame[\"experimentEvents\"]\n",
    "        if responsiveEvent:\n",
    "            responsiveData.append(responsiveEvent)\n",
    "        if experimentEvent:\n",
    "            experimentEvents.append(experimentEvent)\n",
    "\n",
    "\n",
    "def parseSession(session):\n",
    "    sessionData = {\n",
    "    \"task\": str,\n",
    "    \"start_time\": float,\n",
    "    \"end_time\": float,\n",
    "    \"total_time\": float,\n",
    "    \"sessionNumber\": int,\n",
    "    \"isReponsive\": int\n",
    "    }\n",
    "    sessionData[\"task\"] = session[\"task\"]\n",
    "    sessionData[\"start_time\"] = session[\"start_time\"]\n",
    "    sessionData[\"end_time\"] = session[\"end_time\"]\n",
    "    sessionData[\"total_time\"] = session[\"total_time\"]\n",
    "    sessionData[\"sessionNumber\"] = session[\"sessionNumber\"]\n",
    "    sessionData[\"isReponsive\"] = session[\"isReponsive\"]\n",
    "    return sessionData\n"
   ]
  },
  {
   "cell_type": "code",
   "execution_count": 9,
   "metadata": {},
   "outputs": [
    {
     "name": "stdout",
     "output_type": "stream",
     "text": [
      "ExperimentSession_0_1652296620214.json\n",
      "ExperimentSession_1_1652296620214.json\n",
      "ExperimentSession_2_1652296620214.json\n",
      "ExperimentSession_3_1652296620214.json\n",
      "ExperimentSession_4_1652296620214.json\n",
      "ExperimentSession_5_1652296620214.json\n",
      "ExperimentSession_6_1652296620214.json\n",
      "ExperimentSession_7_1652296620214.json\n",
      "ExperimentSession_8_1652296620214.json\n",
      "ExperimentSession_9_1652296620214.json\n",
      "ExperimentSession_0_1652296815907.json\n",
      "ExperimentSession_1_1652296815907.json\n",
      "ExperimentSession_2_1652296815907.json\n",
      "ExperimentSession_3_1652296815907.json\n",
      "ExperimentSession_4_1652296815907.json\n",
      "ExperimentSession_5_1652296815907.json\n",
      "ExperimentSession_6_1652296815907.json\n",
      "ExperimentSession_7_1652296815907.json\n",
      "ExperimentSession_8_1652296815907.json\n",
      "ExperimentSession_9_1652296815907.json\n",
      "[{'path': 'C://Users//FourEyes//Downloads//ResponsiveAR//Experiment//1652296620214//', 'sessions': {0: {'task': \"The task is to click on the 2nd article title.\\n\\nWhen you are ready, click the 'Start Task' button.\", 'start_time': 1652296644484, 'end_time': 1652296646794, 'total_time': 2310, 'sessionNumber': 0, 'isReponsive': False}, 1: {'task': \"The task is to click the 5th article title.\\n\\nWhen you are ready, click the 'Start Task' button.\", 'start_time': 1652296652989, 'end_time': 1652296658004, 'total_time': 5015, 'sessionNumber': 1, 'isReponsive': False}, 2: {'task': \"The task is to click the Author of the 4th article.\\n\\nWhen you are ready, click the 'Start Task' button.\", 'start_time': 1652296664505, 'end_time': 1652296667776, 'total_time': 3271, 'sessionNumber': 2, 'isReponsive': False}, 3: {'task': \"The task is to click the Date of the 1st article.\\n\\nWhen you are ready, click the 'Start Task' button.\", 'start_time': 1652296674065, 'end_time': 1652296678190, 'total_time': 4125, 'sessionNumber': 3, 'isReponsive': False}, 4: {'task': \"The task is to type the phone number 949-927-4580 on the touchpad then click call. \\n\\nWhen you are ready, click the 'Start Task' button.\", 'start_time': 1652296690365, 'end_time': 1652296701585, 'total_time': 11220, 'sessionNumber': 4, 'isReponsive': False}, 5: {'task': \"The task is to type phone number 805-UCSB-EDU on the touchpad then click Call. \\n\\nWhen you are ready, click the 'Start Task' button.\", 'start_time': 1652296711866, 'end_time': 1652296723805, 'total_time': 11939, 'sessionNumber': 5, 'isReponsive': False}, 6: {'task': \"The task is to find the current temperature and type it into the keyboard. \\n\\nWhen you are ready, click the 'Start Task' button.\", 'start_time': 1652296731695, 'end_time': 1652296739596, 'total_time': 7901, 'sessionNumber': 6, 'isReponsive': False}, 7: {'task': \"The task is to find the current location and type it into the keyboard. The answer is not case sensitive.\\n\\nWhen you are ready, click the 'Start Task' button.\", 'start_time': 1652296748796, 'end_time': 1652296763446, 'total_time': 14650, 'sessionNumber': 7, 'isReponsive': False}, 8: {'task': \"The task is to find the low temperature and type it into the keyboard. \\n\\nWhen you are ready, click the 'Start Task' button.\", 'start_time': 1652296770746, 'end_time': 1652296777476, 'total_time': 6730, 'sessionNumber': 8, 'isReponsive': False}, 9: {'task': '', 'start_time': 0, 'end_time': 0, 'total_time': 0, 'sessionNumber': 9, 'isReponsive': False}}}, {'path': 'C://Users//FourEyes//Downloads//ResponsiveAR//Experiment//1652296815907//', 'sessions': {0: {'task': \"The task is to click on the 2nd article title.\\n\\nWhen you are ready, click the 'Start Task' button.\", 'start_time': 1652296824947, 'end_time': 1652296827157, 'total_time': 2210, 'sessionNumber': 0, 'isReponsive': True}, 1: {'task': \"The task is to click the 5th article title.\\n\\nWhen you are ready, click the 'Start Task' button.\", 'start_time': 1652296833097, 'end_time': 1652296834987, 'total_time': 1890, 'sessionNumber': 1, 'isReponsive': True}, 2: {'task': \"The task is to click the Author of the 4th article.\\n\\nWhen you are ready, click the 'Start Task' button.\", 'start_time': 1652296841487, 'end_time': 1652296843327, 'total_time': 1840, 'sessionNumber': 2, 'isReponsive': True}, 3: {'task': \"The task is to click the Date of the 1st article.\\n\\nWhen you are ready, click the 'Start Task' button.\", 'start_time': 1652296849417, 'end_time': 1652296851447, 'total_time': 2030, 'sessionNumber': 3, 'isReponsive': True}, 4: {'task': \"The task is to type the phone number 949-927-4580 on the touchpad then click call. \\n\\nWhen you are ready, click the 'Start Task' button.\", 'start_time': 1652296861257, 'end_time': 1652296872187, 'total_time': 10930, 'sessionNumber': 4, 'isReponsive': True}, 5: {'task': \"The task is to type phone number 805-UCSB-EDU on the touchpad then click Call. \\n\\nWhen you are ready, click the 'Start Task' button.\", 'start_time': 1652296881188, 'end_time': 1652296893868, 'total_time': 12680, 'sessionNumber': 5, 'isReponsive': True}, 6: {'task': \"The task is to find the current temperature and type it into the keyboard. \\n\\nWhen you are ready, click the 'Start Task' button.\", 'start_time': 1652296900948, 'end_time': 1652296906158, 'total_time': 5210, 'sessionNumber': 6, 'isReponsive': True}, 7: {'task': \"The task is to find the current location and type it into the keyboard. The answer is not case sensitive.\\n\\nWhen you are ready, click the 'Start Task' button.\", 'start_time': 1652296916498, 'end_time': 1652296929508, 'total_time': 13010, 'sessionNumber': 7, 'isReponsive': True}, 8: {'task': \"The task is to find the low temperature and type it into the keyboard. \\n\\nWhen you are ready, click the 'Start Task' button.\", 'start_time': 1652296936999, 'end_time': 1652296942179, 'total_time': 5180, 'sessionNumber': 8, 'isReponsive': True}, 9: {'task': '', 'start_time': 0, 'end_time': 0, 'total_time': 0, 'sessionNumber': 9, 'isReponsive': False}}}]\n"
     ]
    }
   ],
   "source": [
    "data = []\n",
    "\n",
    "\n",
    "for exp in exp_paths:\n",
    "    experiment_data = {\n",
    "    \"path\" : str,\n",
    "    \"sessions\": {}\n",
    "    }\n",
    "    sessions = {}\n",
    "    experiment = os.listdir(exp)\n",
    "    current_path = exp\n",
    "    experiment_data[\"path\"] = current_path\n",
    "\n",
    "    for filename in experiment:\n",
    "        if filename.endswith(\".json\"):\n",
    "            # Prints only text file present in My Folder\n",
    "            print(filename)\n",
    "            firstFileFlag = False\n",
    "            if(\"Session_0\" in filename):\n",
    "                firstFileFlag = True\n",
    "            with open(current_path + filename, 'r') as f:\n",
    "                json_data = json.load(f)\n",
    "                if(firstFileFlag):\n",
    "                    session = parseSession(json_data[\"obj\"][\"sessionRecordings\"][0])\n",
    "                    num = session[\"sessionNumber\"]\n",
    "                    sessions[num] = session\n",
    "                    parseFrame(json_data[\"obj\"][\"sessionRecordings\"][0][\"frames\"])\n",
    "                else:\n",
    "                    session = parseSession(json_data)\n",
    "                    num = session[\"sessionNumber\"]\n",
    "                    sessions[num] = session\n",
    "                    parseFrame(json_data[\"frames\"])\n",
    "    experiment_data[\"sessions\"] = sessions\n",
    "    data.append(experiment_data)\n",
    "\n",
    "print(data)\n"
   ]
  },
  {
   "cell_type": "code",
   "execution_count": 13,
   "metadata": {},
   "outputs": [
    {
     "name": "stdout",
     "output_type": "stream",
     "text": [
      "[{'path': 'C://Users//FourEyes//Downloads//ResponsiveAR//Experiment//1652296815907//', 'sessions': {0: {'task': \"The task is to click on the 2nd article title.\\n\\nWhen you are ready, click the 'Start Task' button.\", 'start_time': 1652296824947, 'end_time': 1652296827157, 'total_time': 2210, 'sessionNumber': 0, 'isReponsive': True}, 1: {'task': \"The task is to click the 5th article title.\\n\\nWhen you are ready, click the 'Start Task' button.\", 'start_time': 1652296833097, 'end_time': 1652296834987, 'total_time': 1890, 'sessionNumber': 1, 'isReponsive': True}, 2: {'task': \"The task is to click the Author of the 4th article.\\n\\nWhen you are ready, click the 'Start Task' button.\", 'start_time': 1652296841487, 'end_time': 1652296843327, 'total_time': 1840, 'sessionNumber': 2, 'isReponsive': True}, 3: {'task': \"The task is to click the Date of the 1st article.\\n\\nWhen you are ready, click the 'Start Task' button.\", 'start_time': 1652296849417, 'end_time': 1652296851447, 'total_time': 2030, 'sessionNumber': 3, 'isReponsive': True}, 4: {'task': \"The task is to type the phone number 949-927-4580 on the touchpad then click call. \\n\\nWhen you are ready, click the 'Start Task' button.\", 'start_time': 1652296861257, 'end_time': 1652296872187, 'total_time': 10930, 'sessionNumber': 4, 'isReponsive': True}, 5: {'task': \"The task is to type phone number 805-UCSB-EDU on the touchpad then click Call. \\n\\nWhen you are ready, click the 'Start Task' button.\", 'start_time': 1652296881188, 'end_time': 1652296893868, 'total_time': 12680, 'sessionNumber': 5, 'isReponsive': True}, 6: {'task': \"The task is to find the current temperature and type it into the keyboard. \\n\\nWhen you are ready, click the 'Start Task' button.\", 'start_time': 1652296900948, 'end_time': 1652296906158, 'total_time': 5210, 'sessionNumber': 6, 'isReponsive': True}, 7: {'task': \"The task is to find the current location and type it into the keyboard. The answer is not case sensitive.\\n\\nWhen you are ready, click the 'Start Task' button.\", 'start_time': 1652296916498, 'end_time': 1652296929508, 'total_time': 13010, 'sessionNumber': 7, 'isReponsive': True}, 8: {'task': \"The task is to find the low temperature and type it into the keyboard. \\n\\nWhen you are ready, click the 'Start Task' button.\", 'start_time': 1652296936999, 'end_time': 1652296942179, 'total_time': 5180, 'sessionNumber': 8, 'isReponsive': True}, 9: {'task': '', 'start_time': 0, 'end_time': 0, 'total_time': 0, 'sessionNumber': 9, 'isReponsive': False}}}]\n",
      "[{'path': 'C://Users//FourEyes//Downloads//ResponsiveAR//Experiment//1652296620214//', 'sessions': {0: {'task': \"The task is to click on the 2nd article title.\\n\\nWhen you are ready, click the 'Start Task' button.\", 'start_time': 1652296644484, 'end_time': 1652296646794, 'total_time': 2310, 'sessionNumber': 0, 'isReponsive': False}, 1: {'task': \"The task is to click the 5th article title.\\n\\nWhen you are ready, click the 'Start Task' button.\", 'start_time': 1652296652989, 'end_time': 1652296658004, 'total_time': 5015, 'sessionNumber': 1, 'isReponsive': False}, 2: {'task': \"The task is to click the Author of the 4th article.\\n\\nWhen you are ready, click the 'Start Task' button.\", 'start_time': 1652296664505, 'end_time': 1652296667776, 'total_time': 3271, 'sessionNumber': 2, 'isReponsive': False}, 3: {'task': \"The task is to click the Date of the 1st article.\\n\\nWhen you are ready, click the 'Start Task' button.\", 'start_time': 1652296674065, 'end_time': 1652296678190, 'total_time': 4125, 'sessionNumber': 3, 'isReponsive': False}, 4: {'task': \"The task is to type the phone number 949-927-4580 on the touchpad then click call. \\n\\nWhen you are ready, click the 'Start Task' button.\", 'start_time': 1652296690365, 'end_time': 1652296701585, 'total_time': 11220, 'sessionNumber': 4, 'isReponsive': False}, 5: {'task': \"The task is to type phone number 805-UCSB-EDU on the touchpad then click Call. \\n\\nWhen you are ready, click the 'Start Task' button.\", 'start_time': 1652296711866, 'end_time': 1652296723805, 'total_time': 11939, 'sessionNumber': 5, 'isReponsive': False}, 6: {'task': \"The task is to find the current temperature and type it into the keyboard. \\n\\nWhen you are ready, click the 'Start Task' button.\", 'start_time': 1652296731695, 'end_time': 1652296739596, 'total_time': 7901, 'sessionNumber': 6, 'isReponsive': False}, 7: {'task': \"The task is to find the current location and type it into the keyboard. The answer is not case sensitive.\\n\\nWhen you are ready, click the 'Start Task' button.\", 'start_time': 1652296748796, 'end_time': 1652296763446, 'total_time': 14650, 'sessionNumber': 7, 'isReponsive': False}, 8: {'task': \"The task is to find the low temperature and type it into the keyboard. \\n\\nWhen you are ready, click the 'Start Task' button.\", 'start_time': 1652296770746, 'end_time': 1652296777476, 'total_time': 6730, 'sessionNumber': 8, 'isReponsive': False}, 9: {'task': '', 'start_time': 0, 'end_time': 0, 'total_time': 0, 'sessionNumber': 9, 'isReponsive': False}}}]\n"
     ]
    }
   ],
   "source": [
    "responsive_data = []\n",
    "nonresponsive_data = []\n",
    "\n",
    "for d in data:\n",
    "    #change to Responsive \n",
    "    if(d[\"sessions\"][0][\"isResponsive\"]):\n",
    "        responsive_data.append(d)\n",
    "    else:\n",
    "        nonresponsive_data.append(d)\n",
    "\n",
    "print(responsive_data)\n",
    "print(nonresponsive_data)"
   ]
  },
  {
   "cell_type": "code",
   "execution_count": 28,
   "metadata": {},
   "outputs": [
    {
     "name": "stdout",
     "output_type": "stream",
     "text": [
      "task number 0\n",
      "nonresponsive - responsive = 100\n",
      "task number 1\n",
      "nonresponsive - responsive = 3125\n",
      "task number 2\n",
      "nonresponsive - responsive = 1431\n",
      "task number 3\n",
      "nonresponsive - responsive = 2095\n",
      "task number 4\n",
      "nonresponsive - responsive = 290\n",
      "task number 5\n",
      "nonresponsive - responsive = -741\n",
      "task number 6\n",
      "nonresponsive - responsive = 2691\n",
      "task number 7\n",
      "nonresponsive - responsive = 1640\n",
      "task number 8\n",
      "nonresponsive - responsive = 1550\n"
     ]
    }
   ],
   "source": [
    "#check calc of total time\n",
    "\n",
    "\n",
    "for item in responsive_data:\n",
    "    for num in item[\"sessions\"]:\n",
    "        task = item[\"sessions\"][num][\"sessionNumber\"]\n",
    "        t = item[\"sessions\"][num][\"total_time\"]\n",
    "#for item in nonresponsive_data:\n",
    "\n",
    "for item in nonresponsive_data:\n",
    "    for num in item[\"sessions\"]:\n",
    "        task = item[\"sessions\"][num][\"sessionNumber\"]\n",
    "        t = item[\"sessions\"][num][\"total_time\"]\n",
    "\n",
    "\n",
    "\n",
    "for num in range (0,9):\n",
    "    respTask = responsive_data[0][\"sessions\"][num][\"sessionNumber\"]\n",
    "    respTime = responsive_data[0][\"sessions\"][num][\"total_time\"]\n",
    "    nonrespTask = nonresponsive_data[0][\"sessions\"][num][\"sessionNumber\"]\n",
    "    nonrespTime = nonresponsive_data[0][\"sessions\"][num][\"total_time\"]\n",
    "    print(\"task number \" + str(respTask))\n",
    "    print(\"nonresponsive time: \" + str(nonrespTime))\n",
    "    print(\"responsive time: \" + str(respTime))\n",
    "    diff = nonrespTime - respTime\n",
    "    print(\"nonresponsive - responsive = \" + str(diff))\n",
    "\n"
   ]
  }
 ],
 "metadata": {
  "interpreter": {
   "hash": "b6842e5dfed0bc3343bc13ca6063d80fcf5a3b2d743ff474ef7f6ce08abe56db"
  },
  "kernelspec": {
   "display_name": "Python 3.7.8 64-bit",
   "language": "python",
   "name": "python3"
  },
  "language_info": {
   "codemirror_mode": {
    "name": "ipython",
    "version": 3
   },
   "file_extension": ".py",
   "mimetype": "text/x-python",
   "name": "python",
   "nbconvert_exporter": "python",
   "pygments_lexer": "ipython3",
   "version": "3.7.8"
  },
  "orig_nbformat": 4
 },
 "nbformat": 4,
 "nbformat_minor": 2
}
