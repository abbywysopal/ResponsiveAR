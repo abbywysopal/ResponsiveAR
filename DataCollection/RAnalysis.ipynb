{
 "cells": [
  {
   "cell_type": "code",
   "execution_count": null,
   "metadata": {
    "vscode": {
     "languageId": "r"
    }
   },
   "outputs": [
    {
     "ename": "",
     "evalue": "",
     "output_type": "error",
     "traceback": [
      "\u001b[1;31mFailed to start the Kernel. \n",
      "dyld[47632]: Library not loaded: @rpath/libreadline.6.2.dylib\n",
      "  Referenced from: /opt/anaconda3/lib/R/lib/libR.dylib\n",
      "  Reason: tried: '/opt/anaconda3/lib/R/lib/../../libreadline.6.2.dylib' (no such file), '/opt/anaconda3/lib/R/bin/exec/../../../libreadline.6.2.dylib' (no such file), '/opt/anaconda3/lib/R/bin/exec/../../../libreadline.6.2.dylib' (no such file), '/opt/anaconda3/lib/R/lib/libreadline.6.2.dylib' (no such file), '/opt/anaconda3/lib/libreadline.6.2.dylib' (no such file), '/opt/anaconda3/libreadline.6.2.dylib' (no such file). \n",
      "View Jupyter <a href='command:jupyter.viewOutput'>log</a> for further details."
     ]
    }
   ],
   "source": [
    "weatherTasks <- read.csv(\"WeatherExperimentData.csv\")\n",
    "\n",
    "numpadTasks <- read.csv(\"NumpadExperimentData.csv\")\n",
    "\n",
    "articleTasks <- read.csv(\"ArticleExperimentData.csv\")"
   ]
  }
 ],
 "metadata": {
  "kernelspec": {
   "display_name": "R",
   "language": "R",
   "name": "ir"
  },
  "language_info": {
   "name": "R"
  },
  "orig_nbformat": 4
 },
 "nbformat": 4,
 "nbformat_minor": 2
}
